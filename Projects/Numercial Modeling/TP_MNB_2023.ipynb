{
 "cells": [
  {
   "cell_type": "markdown",
   "metadata": {},
   "source": [
    "   # TP de Méthodes Numériques : \n",
    "   # Simulation d'une chaîne d'oscillateurs non linéaires"
   ]
  },
  {
   "cell_type": "markdown",
   "metadata": {},
   "source": [
    "On considère un système de $n$ oscillateurs couplés, régi par une\n",
    "équation différentielle du second ordre dans $\\mathbb{R}^n$ :\n",
    "\\begin{equation}\n",
    "\\frac{d^2u}{dt^2}+C\\, \\frac{du}{dt}=f(u) \\quad (1)\n",
    "\\end{equation}\n",
    "avec $u(t)= (u_1(t), u_2(t), \\ldots , u_n(t))^T \\in \\mathbb{R}^n$, \n",
    "$f\\, : \\mathbb{R}^n \\rightarrow \\mathbb{R}^n$ fonction de classe $C^2$ et\n",
    "$$\n",
    "C\\in M_n(\\mathbb{R}) \\ \\ \n",
    "\\mbox{symétrique définie positive.}\n",
    "$$\n",
    "Nous allons simuler numériquement des équations de la forme (1) à l'aide du schéma\n",
    "aux différences finies centré implicite\n",
    "\\begin{equation}\n",
    "\\frac{u^{(k+1)}-2u^{(k)}+u^{(k-1)}}{h^2}+C\\, \\frac{u^{(k+1)}-u^{(k-1)}}{2\\, h}=f(u^{(k)})\n",
    "\\quad (2)\n",
    "\\end{equation}\n",
    "où $h>0$ est le pas de discrétisation et $u^{(k)}$ une approximation de $u(k\\, h)$.\n",
    "\n",
    "En introduisant la variable auxiliaire \n",
    "$$\n",
    "v=\\frac{du}{dt}+C\\, u,\n",
    "$$\n",
    "l'équation différentielle du second ordre (1) est équivalente à celle du premier ordre dans $\\mathbb{R}^n \\times \\mathbb{R}^n$\n",
    "\\begin{equation}\n",
    "\\left\\{\n",
    "\\begin{array}{lll}\n",
    "u'&=& v-C\\, u, \\\\\n",
    "v' &=& f(u),\n",
    "\\end{array}\n",
    "\\right.\n",
    "\\quad (3)\n",
    "\\end{equation}\n",
    "pour laquelle nous donnerons une reformulation du schéma (2).\n",
    "\n",
    "Les schémas numériques mis en oeuvre nous permettront \n",
    "d'étudier la convergence de différents systèmes vers un état d'équilibre\n",
    "et certains phénomènes transitoires. \n",
    "Une solution d'équilibre $u^\\ast \\in \\mathbb{R}^n$ de (1) est une solution indépendante de $t$,\n",
    "caractérisée par la propriété $f(u^\\ast)=0$. De manière équivalente, une \n",
    "solution d'équilibre $(u^\\ast , v^\\ast) \\in \\mathbb{R}^n \\times \\mathbb{R}^n$ de (3)\n",
    "est caractérisée par\n",
    "$$\n",
    "f(u^\\ast)=0, \\quad v^\\ast = C\\, u^\\ast.\n",
    "$$"
   ]
  },
  {
   "cell_type": "markdown",
   "metadata": {},
   "source": [
    "## 1. Reformulation et étude du schéma centré"
   ]
  },
  {
   "cell_type": "markdown",
   "metadata": {},
   "source": [
    "Etant donné une condition initiale \n",
    "$$\n",
    "(u(0),v(0)) = \n",
    "(u^{(0)},v^{(0)}),\n",
    "$$\n",
    "on souhaite calculer numériquement $(u(t),v(t))$ pour $t \\in [0,T]$.\n",
    "On approche $(u(kh),v(kh))$ par la solution $(u^{(k)},v^{(k)})$ du schéma suivant\n",
    "\\begin{equation}\n",
    "\\forall k\\geq 0, \\quad \n",
    "\\left\\{\n",
    "\\begin{array}{lllr}\n",
    "v^{(k+1/2)}&=&v^{(k)}+\\frac{h}{2}\\, f(u^{(k)}) & (a) \\\\\n",
    "u^{(k+1)}&=&u^{(k)}+h\\, v^{(k+1/2)} -h\\, C\\,  \\frac{u^{(k+1)}+u^{(k)}}{2} & (b)\\\\\n",
    "v^{(k+1)}&=&v^{(k+1/2)}+\\frac{h}{2}\\, f(u^{(k+1)}). & (c)\n",
    "\\end{array}\n",
    "\\right.\n",
    "\\quad (4)\n",
    "\\end{equation}\n",
    "A chaque itération, il est nécessaire de résoudre l'équation (4)-(b) pour $u^{(k+1)}$, qui correspond au système linéaire\n",
    "$$\n",
    "A\\, u^{(k+1)} = \\big(I-\\frac{h}{2}\\, C\\big)\\, u^{(k)}+h\\, v^{(k+1/2)}\n",
    "$$\n",
    "de matrice symétrique définie positive\n",
    "$$\n",
    "A=I+\\frac{h}{2}\\, C. \\quad (5)\n",
    "$$"
   ]
  },
  {
   "cell_type": "markdown",
   "metadata": {},
   "source": [
    "#### Question 1 \n",
    "Montrer que la condition initiale et la\n",
    "relation de récurrence (4) déterminent la suite $(u^{(k)},v^{(k)})_{k \\geq 0}$."
   ]
  },
  {
   "cell_type": "markdown",
   "metadata": {},
   "source": [
    "Réponse : <br>\n",
    "Montrons qu'avec $(u^{(0)},v^{(0)})$, on peut obtenir $(u^{(1)},v^{(1)})$. Il suffira ainsi d'itérer le procédé. <br><br>\n",
    "<u>Etape 1 </u>: $v^{(1/2)} = v^{(0)}+\\frac{h}{2}\\, f(u^{(0)})$ <br><br>\n",
    "<u>Etape 2 </u>:$Au^{(1)} =(I-\\frac{h}{2}C)u^{(0)}+hv^{(\\frac{1}{2})}$<br><br> \n",
    "<u>Etape 3 </u>:  $v^{(1)} = v^{(1/2)}+\\frac{h}{2}\\, f(u^{(1)})$ \n"
   ]
  },
  {
   "cell_type": "markdown",
   "metadata": {},
   "source": [
    "On notera $\\varphi\\, : \\big(\\mathbb{R}^n \\big)^2 \\rightarrow \\big(\\mathbb{R}^n \\big)^2$ \n",
    "l'application définie par (4)\n",
    "$$(u^{(k)},v^{(k)}) \\mapsto \\varphi (u^{(k)},v^{(k)})= (u^{(k+1)},v^{(k+1)}).$$"
   ]
  },
  {
   "cell_type": "markdown",
   "metadata": {},
   "source": [
    "#### Question 2 \n",
    "Montrer que toute solution de (4) vérifie (2) pour tout $k\\geq 1$."
   ]
  },
  {
   "cell_type": "markdown",
   "metadata": {},
   "source": [
    "Réponse : \n",
    "\n",
    "$\\begin{align*}&\\frac{u^{(k+1)}-2u^{(k)}+u^{(k-1)}}{h^2}+C \\frac{u^{(k+1)}-u^{(k-1)}}{2\\, h}\\\\&=\\frac{u^{(k+1)}-2u^{(k)}+u^{(k-1)}+C\\frac{h}{2}u^{(k+1)}-C\\frac{h}{2}u^{(k-1)}}{h^2}\\\\&=\\frac{(I+\\frac{h}{2}C)u^{(k+1)}-2u^{(k)}+(I-\\frac{h}{2}C)u^{(k-1)}}{h²}\\\\(b)&=\\frac{(I-\\frac{h}{2}C)u^{(k)}+hv^{(k+\\frac{1}{2})}-2u^{(k)}+(I+\\frac{h}{2}C)u^{(k)}-hv^{(k-\\frac{1}{2})}}{h²}\\\\&=\\frac{v^{(k+\\frac{1}{2})}-v^{(k-\\frac{1}{2})}}{h}\\\\(c)&=\\frac{v^{(k+\\frac{1}{2})}-(v^{(k)}-\\frac{h}{2}f(u^{(k)}))}{h}\\\\(a)&=v^{(k)}-v^{(k)}+\\frac{2h}{2}f(u^{(k)})=f(u^{(k)})\n",
    "\\end{align*}$\n",
    "<br><br>\n",
    "$$\n",
    "\\boxed{\\frac{u^{(k+1)}-2u^{(k)}+u^{(k-1)}}{h^2}+C \\frac{u^{(k+1)}-u^{(k-1)}}{2\\, h}=f(u^{(k)})}\n",
    "$$"
   ]
  },
  {
   "cell_type": "markdown",
   "metadata": {},
   "source": [
    "#### Question 3\n",
    "Vérifier que les points fixes de $\\varphi$ sont les équilibres $(u^\\ast , v^\\ast)$ de (3)."
   ]
  },
  {
   "cell_type": "markdown",
   "metadata": {},
   "source": [
    "Réponse : Soient u,v les points fixes de $\\varphi$.Ils vérifient donc <br><br>\n",
    "$(u^{(k)},v^{(k)})=(u^{(k+1)},v^{(k+1)}) \\forall k$\n",
    "<br><br>\n",
    "Ainsi,d'après (2)<br><br> $\\begin{align*}f(u^{(k)})&= \\dfrac{u^{(k+1)}-2u^{(k)}+u^{(k-1)}}{h²}+ C \\dfrac{u^{(k)}-u^{(k-1)}}{2h}\\\\&=0+0\\end{align*}\\\\\\boxed{f(u^{(k)})=0}$\n",
    "<br><br>\n",
    "Et d'après (4)(b)\n",
    "<br><br>\n",
    "$\\begin{align*}&u^{(k+1)}-u^{(k)}=hv^{(k+\\dfrac{1}{2})}-hC\\dfrac{u^{(k+1)}+u^{(k)}}{2}\\\\&\\iff0=hv^{(k)}-hCu^{(k)}\\iff \\boxed{v^{(k)}=Cu^{(k)}}\\end{align*}$\n",
    "<br><br>\n",
    "Ainsi, **les points fixes de $\\varphi$ sont les équilibres de $(u^*,v^*)$**"
   ]
  },
  {
   "cell_type": "markdown",
   "metadata": {},
   "source": [
    "#### Question 4\n",
    "Déterminer l'ordre de consistance du schéma (4)."
   ]
  },
  {
   "cell_type": "markdown",
   "metadata": {},
   "source": [
    "Réponse : \n",
    "Un schéma est dit consistant si $\\underset{t \\in [t_0;T-t]}{sup} || \\frac{y(t+h) - y(t)}{h} - \\Phi(t,y(t),h) || \\underset{h \\longrightarrow 0}{\\longrightarrow} 0$\n",
    "\n",
    "On a déjà que : \n",
    "\n",
    "$\\begin{align}\n",
    "\\frac{y(t+h) - y(t)}{h} &= \\frac{1}{h} (y(t) + hy'(t) + \\frac{h^2}{2}f''(t) - y(t)) + O(h^2) \\\\\n",
    "&= \\frac{1}{h} (hy'(t) + \\frac{h^2}{2}f''(t)) + O(h^2)\n",
    "\\end{align}$\n",
    "\n",
    "Ensuite:\n",
    "\n",
    "$v^{(k+1)} = v^{(k)} + hf(u^{(k+1/2)}) + O(h^2)$\n",
    "\n",
    "D'autre part :\n",
    "\n",
    "$u^{(k+1)} = u^{(k)} + hv^{(k+1/2)} - \\frac{h^2}{2}f(v^{(k)} + O(h^2)$\n",
    "\n",
    "On a donc que :\n",
    "\n",
    "$\\underset{t \\in [t_0;T-t]}{sup} || \\frac{y(t+h) - y(t)}{h} - \\Phi(t,y(t),h) || = O(h^2)$\n",
    "\n",
    "Ie : $\\fbox{l'erreur de consistance est d'odre 2}$\n"
   ]
  },
  {
   "cell_type": "markdown",
   "metadata": {},
   "source": [
    "#### Question 5\n",
    "On admet que lorsque $f$ est lipschitzienne sur $\\mathbb{R}^n$,\n",
    "le schéma (4) est stable par rapport aux erreurs sur l'intervalle $[0,T]$.\n",
    "Justifier dans ce cas la convergence du schéma (4) lorsque $h\\rightarrow 0$ et donner son ordre de convergence."
   ]
  },
  {
   "cell_type": "markdown",
   "metadata": {},
   "source": [
    "Réponse : "
   ]
  },
  {
   "cell_type": "markdown",
   "metadata": {},
   "source": [
    "## 2. Test du schéma pour un oscillateur linéaire"
   ]
  },
  {
   "cell_type": "markdown",
   "metadata": {},
   "source": [
    "On considère l'équation (1) pour $u(t) \\in \\mathbb{R}$, $C>0$ et \n",
    "$$f(u)=1-u.$$\n",
    "Ce système décrit par exemple le déplacement d'un ressort linéaire amorti soumis à une force constante unitaire.\n",
    "Les solutions $u(t)$ de (1) peuvent être calculées explicitement dans ce cas (l'équation est linéaire non homogène à coefficients constants). Ce calcul permet de tester le schéma (4) avant de l'appliquer aux exemples plus complexes étudiés dans les sections 3 et 4."
   ]
  },
  {
   "cell_type": "markdown",
   "metadata": {},
   "source": [
    "#### Question 6\n",
    "Calculer la solution d'équilibre $(u^\\ast , v^\\ast)$ de (3)."
   ]
  },
  {
   "cell_type": "markdown",
   "metadata": {},
   "source": [
    "Réponse : \n",
    "\n",
    "On cherche $u*$ tel que $f(u*)=0 \\implies \\boxed{u*=1} \\implies \\boxed{v*=C}$"
   ]
  },
  {
   "cell_type": "code",
   "execution_count": null,
   "metadata": {},
   "outputs": [],
   "source": [
    "%matplotlib inline\n",
    "import matplotlib.pyplot as plt\n",
    "from matplotlib.animation import FuncAnimation\n",
    "import numpy as np"
   ]
  },
  {
   "cell_type": "markdown",
   "metadata": {},
   "source": [
    "#### Question 7\n",
    "Ecrire une fonction **iter** qui calcule la solution $[u^{(k+1)},v^{(k+1)}]$ de (4)\n",
    "en fonction des arguments $[u^{(k)}$, $v^{(k)}]$ et $h$.\n",
    "Pour des valeurs de votre choix de $C$ et $h$,\n",
    "tester cette fonction sur le vecteur $[u^{(k)}$, $v^{(k)}]=[u^{\\ast}$, $v^{\\ast}]$."
   ]
  },
  {
   "cell_type": "code",
   "execution_count": null,
   "metadata": {},
   "outputs": [
    {
     "name": "stdout",
     "output_type": "stream",
     "text": [
      "[1.  0.3]\n"
     ]
    }
   ],
   "source": [
    "def f(u):\n",
    "    return 1-u\n",
    "\n",
    "def iter(V,h):\n",
    "    C=0.3\n",
    "    v_demi=V[1]+(h/2)*f(V[0])\n",
    "    new_u=(2*V[0]+2*h*v_demi-h*C*V[0])/(2+h*C)\n",
    "    new_v=v_demi + (h/2)*f(new_u)\n",
    "    return np.array([new_u,new_v])\n",
    "\n",
    "\n",
    "print(iter(np.array([1,0.3]),0.1))"
   ]
  },
  {
   "cell_type": "markdown",
   "metadata": {},
   "source": [
    "#### Question 8\n",
    "Ecrire une fonction **solnum** (prenant en arguments\n",
    "la condition initiale $[u(0),v(0)]$, le temps maximal d'intégration $T$ et le pas $h$)\n",
    "qui calcule la solution numérique $[u^{(k)},v^{(k)}]$\n",
    "aux temps $t_k = k\\, h \\in [0,T]$, c'est à dire jusqu'à l'itéré \n",
    "$k_{\\mathrm{max}}=\\mathrm{E}(T/h)$ où $\\mathrm{E}$ désigne la partie entière.\n",
    "La fonction fournit en sortie\n",
    "les valeurs de $[u^{(k)},v^{(k)}]$ pour $0 \\leq k \\leq k_{\\mathrm{max}}$\n",
    "sous la forme d'une matrice de taille $2 \\times (k_{\\mathrm{max}}+1)$.\n",
    "Pour des valeurs de votre choix de $C$, $T$ et $h$,\n",
    "tester cette fonction sur la condition initiale $[u(0), v(0)]=[u^{\\ast}, v^{\\ast}]$."
   ]
  },
  {
   "cell_type": "code",
   "execution_count": null,
   "metadata": {},
   "outputs": [
    {
     "name": "stdout",
     "output_type": "stream",
     "text": [
      "[[1.  0.3]\n",
      " [1.  0.3]\n",
      " [1.  0.3]\n",
      " [1.  0.3]\n",
      " [1.  0.3]\n",
      " [1.  0.3]]\n"
     ]
    }
   ],
   "source": [
    "def solnum(CI,T,h):\n",
    "    M=np.zeros((int(T/h)+1,2))\n",
    "    M[0,:]=CI\n",
    "    for k in range(1,int(T/h)+1):\n",
    "        M[k,:]=iter(M[k-1,:],h)\n",
    "    return M\n",
    "\n",
    "print(solnum(np.array([1,0.3]),10,2)[:,:])\n",
    "        "
   ]
  },
  {
   "cell_type": "markdown",
   "metadata": {},
   "source": [
    "Dans les questions 9 à 11, on fixe $C=0.3$ et\n",
    "on suppose le système initialement au repos :\n",
    "$$\n",
    "u(0)=0, \\quad u^\\prime (0)=0, \\quad (6)\n",
    "$$\n",
    "et donc $v(0)=0$."
   ]
  },
  {
   "cell_type": "markdown",
   "metadata": {},
   "source": [
    "#### Question 9\n",
    "Calculer la solution explicite $(u(t),v(t))$ de (3) pour cette condition initiale.\n",
    "Que vaut $\\lim_{t\\rightarrow +\\infty}(u(t),v(t))$ ?\n",
    "Ecrire une fonction **solexacte** prenant en argument un vecteur de temps $[t_k ]_{0\\leq k \\leq k_{\\mathrm{max}}}$,\n",
    "qui évalue cette solution aux temps $t_k$ en stockant les valeurs dans\n",
    "une matrice de taille $2 \\times (k_{\\mathrm{max}}+1)$. "
   ]
  },
  {
   "cell_type": "markdown",
   "metadata": {},
   "source": [
    "Réponse (calcul explicite) :\n",
    "\n",
    "\\begin{equation}\n",
    "\\left\\{\n",
    "\\begin{array}{lll}\n",
    "u'&=& v-C\\, u, \\\\\n",
    "v' &=& 1-u,\n",
    "\\end{array}\n",
    "\\right.\n",
    "\\quad (3)\n",
    "\\end{equation}\n",
    "\n",
    "$\\implies u''=v'-Cu'=f(u)-Cu'=1-u-Cu' \\implies \\boxed{u''+Cu'+u=1}$ \n",
    "<br><br>\n",
    "En résolvant cette équation différentielle d'ordre 2 à coefficient constant on obtient : (avec les CI)\n",
    "<br><br>\n",
    "$\\begin{align*}\\\\&u(t)=-e^{-\\frac{C}{2}t}[cos(\\frac{1}{2}\\sqrt{4-C²}t)+\\frac{C}{\\sqrt{4-C^2}}sin(\\frac{1}{2}\\sqrt{4-C^2}t)]+1\\\\& v(t)=e^{-\\frac{C}{2}t}[-Ccos(\\frac{1}{2}\\sqrt{4-C²}t)+\\frac{2-C²}{\\sqrt{4-C^2}}sin(\\frac{1}{2}\\sqrt{4-C^2}t)]+C \\end{align*}$"
   ]
  },
  {
   "cell_type": "code",
   "execution_count": null,
   "metadata": {},
   "outputs": [
    {
     "data": {
      "image/png": "[encoded data removed]",
      "text/plain": [
       "<Figure size 432x288 with 1 Axes>"
      ]
     },
     "metadata": {
      "needs_background": "light"
     },
     "output_type": "display_data"
    }
   ],
   "source": [
    "k_max=100000\n",
    "h=0.001\n",
    "tk=np.arange(0,k_max*h,h)\n",
    "def u(t,C=0.3):\n",
    "    return -np.exp(-C*t/2)*(np.cos(0.5*np.sqrt(4-C**2)*t)+(C/np.sqrt(4-C**2))*np.sin(0.5*np.sqrt(4-C**2)*t))+1\n",
    "def v(t,C=0.3):\n",
    "    return np.exp(-C*t/2)*(-C*np.cos(0.5*np.sqrt(4-C**2)*t)+((2-C**2)/np.sqrt(4-C**2))*np.sin(0.5*np.sqrt(4-C**2)*t))+C\n",
    "\n",
    "def solexacte(tk,C=0.3):\n",
    "    k_max=tk.size-1\n",
    "    res=np.zeros((2,k_max+1))\n",
    "    for k in range(k_max+1):\n",
    "        t=tk[k]\n",
    "        res[0,k]=u(t)\n",
    "        res[1,k]=v(t)\n",
    "    return res\n",
    "    \n",
    "plt.plot(tk,solexacte(tk)[1,:])\n",
    "plt.plot(tk,solexacte(tk)[0,:])\n",
    "plt.show()"
   ]
  },
  {
   "cell_type": "markdown",
   "metadata": {},
   "source": [
    "#### Question 10\n",
    "On fixe $T=25$. Tracer le graphe de l'erreur globale\n",
    "$$\\mathrm{Err}\\,(h)=\\mathrm{max}_{0\\leq k \\leq k_{\\mathrm{max}}}\\| (u^{(k)},v^{(k)})-(u(t_k),v(t_k)) \\|_2$$\n",
    "pour $h \\in [10^{-5}, 10^{-1}]$ en utilisant une échelle logarithmique.\n",
    "Retrouvez-vous l'ordre de convergence obtenu dans la question 5 ?"
   ]
  },
  {
   "cell_type": "code",
   "execution_count": null,
   "metadata": {},
   "outputs": [
    {
     "data": {
      "image/png": "[encoded data removed]",
      "text/plain": [
       "<Figure size 432x288 with 1 Axes>"
      ]
     },
     "metadata": {
      "needs_background": "light"
     },
     "output_type": "display_data"
    }
   ],
   "source": [
    "c=0\n",
    "H=np.array([0.001,0.01,0.1])\n",
    "E=np.zeros(3)\n",
    "T=25\n",
    "for h in H:\n",
    "    k_max=int(T/h)\n",
    "    max=0\n",
    "    num_u=solnum(np.array([0,0]),T,h)[:,0]\n",
    "    num_v=solnum(np.array([0,0]),T,h)[:,1]\n",
    "    tk=np.arange(0,k_max*h,h)\n",
    "    reel_u,reel_v=solexacte(tk)[0,:],solexacte(tk)[1,:]\n",
    "    for k in range(k_max):\n",
    "        erreur=np.sqrt((num_u[k]-reel_u[k])**2+(num_v[k]-reel_v[k])**2)\n",
    "        if erreur > max:\n",
    "            max=erreur\n",
    "    E[c]=max\n",
    "    c+=1\n",
    "    \n",
    "\n",
    "    \n",
    "plt.loglog(H,E)\n",
    "plt.grid()\n",
    "plt.show()\n"
   ]
  },
  {
   "cell_type": "markdown",
   "metadata": {},
   "source": [
    "On remarque que l'erreur <b>tend vers 0 comme h²</b> $\\implies$ ordre de convergence <b>d'ordre 2</b>"
   ]
  },
  {
   "cell_type": "markdown",
   "metadata": {},
   "source": [
    "#### Question 11\n",
    "Etudier numériquement pour quelles valeurs de $h >0$ on a \n",
    "$\\lim_{k\\rightarrow +\\infty}{(u^{(k)},v^{(k)})}=\\lim_{t\\rightarrow +\\infty}(u(t),v(t))$.\n",
    "Pour cela, on pourra afficher pour différentes valeurs de $h$, et sur des intervalles de temps $[0,T]$ bien choisis,\n",
    "les graphes de $u^{(k)}$ et $v^{(k)}$ en fonction de $t_k$."
   ]
  },
  {
   "cell_type": "code",
   "execution_count": null,
   "metadata": {},
   "outputs": [
    {
     "data": {
      "image/png": "[encoded data removed]",
      "text/plain": [
       "<Figure size 432x288 with 1 Axes>"
      ]
     },
     "metadata": {
      "needs_background": "light"
     },
     "output_type": "display_data"
    }
   ],
   "source": [
    "T=np.linspace(0,25,int(25/0.1)+1)\n",
    "Y=[v(t) for t in T]\n",
    "Y_num=solnum(np.array([0,0]),25,0.1)[:,1]\n",
    "plt.plot(T,Y_num,color='red')\n",
    "plt.plot(T,Y)\n",
    "plt.show()"
   ]
  },
  {
   "cell_type": "markdown",
   "metadata": {},
   "source": [
    "## 3. Oscillateur non linéaire soumis à une force constante"
   ]
  },
  {
   "cell_type": "markdown",
   "metadata": {},
   "source": [
    "On considère l'équation (1) pour $u(t) \\in \\mathbb{R}$, $C>0$ et \n",
    "$$f(u)=1-u^3.$$\n",
    "Ce système décrit le déplacement d'un ressort non-linéaire (non-linéarité cubique)\n",
    "avec amortissement linéaire, sous l'action d'une force constante unitaire."
   ]
  },
  {
   "cell_type": "markdown",
   "metadata": {},
   "source": [
    "#### Question 12\n",
    "Calculer la solution d'équilibre $(u^\\ast , v^\\ast)$ de (3)."
   ]
  },
  {
   "cell_type": "markdown",
   "metadata": {},
   "source": [
    "Réponse :\n",
    "\n",
    "$f(u*)=0 \\implies u*=1$(bijectivité) $\\\\v*=C$ \n"
   ]
  },
  {
   "cell_type": "markdown",
   "metadata": {},
   "source": [
    "#### Question 13\n",
    "Pour un oscillateur initialement au repos (condition initiale (6)),\n",
    "on calcule numériquement la solution de (3) sur l'intervalle de temps $[0,T]$ \n",
    "en utilisant le schéma (4). On choisit $T=30$ et le pas de temps $h=10^{-3}$.\n",
    "Pour différentes valeurs de $C$, tracer les graphes de $u^{(k)}$ et $v^{(k)}$ en fonction de $t_k$.\n",
    "Etudier numériquement pour quelles valeurs de $C$ la convergence vers l'équilibre s'effectue\n",
    "de manière monotone (régime sur-amorti), et pour quelles valeurs du paramètre cette convergence est oscillante (régime sous-amorti)."
   ]
  },
  {
   "cell_type": "code",
   "execution_count": null,
   "metadata": {},
   "outputs": [
    {
     "data": {
      "image/png": "[encoded data removed]",
      "text/plain": [
       "<Figure size 432x288 with 2 Axes>"
      ]
     },
     "metadata": {
      "needs_background": "light"
     },
     "output_type": "display_data"
    }
   ],
   "source": [
    "h = 10**(-3)\n",
    "t0, tf = 0, 30\n",
    "\n",
    "T = np.linspace(t0,tf,int((tf-t0)/h))\n",
    "C = [0,0.1,0.3,1]\n",
    "\n",
    "def f(val) :\n",
    "    return 1 - val**3\n",
    "\n",
    "for c in C :\n",
    "    u, v = [0,0], [0]\n",
    "    v.append(v[-1] + (h/2) * f(u[-2]) + (h/2) * f(u[-1]))\n",
    "    for i in range(2,len(T)) :\n",
    "        u.append(((1 - (h/2) * c) * u[-1] + h * (v[-1] + (h/2) * f(u[-1]))) / (1 + ((h/2) * c)))\n",
    "        v.append(v[-1] + (h/2) * f(u[-2]) + (h/2) * f(u[-1]))\n",
    "    plt.subplot(2,1,1)\n",
    "    plt.plot(T, u)\n",
    "    plt.xlabel(\"tk\")\n",
    "    plt.ylabel(\"u(k)\")\n",
    "    plt.legend(C)\n",
    "    plt.xlim(-10, 35)\n",
    "    plt.ylim(-0.4, 2)\n",
    "    plt.title(\"u et v en fonction du temps pour differentes valeurs d'amortissement\")\n",
    "   \n",
    "    plt.subplot(2,1,2)\n",
    "    plt.plot(T, v)\n",
    "    plt.xlabel(\"tk\")\n",
    "    plt.ylabel(\"v(k)\")\n",
    "    plt.legend(C)\n",
    "    plt.xlim(-10, 35)\n",
    "    plt.ylim(-1.5, 2)"
   ]
  },
  {
   "cell_type": "markdown",
   "metadata": {},
   "source": [
    "## 4. Chaîne d'oscillateurs non linéaires forcée à une extrémité"
   ]
  },
  {
   "cell_type": "markdown",
   "metadata": {},
   "source": [
    "On étudie l'équation (1) avec $C=\\mu\\, K$ où\n",
    "$\\mu >0$ est un paramètre \n",
    "et la matrice $K\\in M_n (\\mathbb{R})$ ($n \\geq 2$) s'écrit:\n",
    "$$\n",
    "K =\\left(\n",
    "\\begin{array}{cccccc}\n",
    " 2  & -1 & 0 & 0 & \\ldots & 0 \\\\\n",
    " -1 & 2  & -1 & 0 & & \\vdots \\\\\n",
    "0 & -1 & 2  & -1 & \\ddots & \\vdots \\\\\n",
    "\\vdots & 0 & -1 & \\ddots & \\ddots & 0 \\\\\n",
    "\\vdots & & \\ddots & \\ddots & 2 & -1 \\\\\n",
    "0 & \\ldots & \\ldots & 0 & -1 & 1 \n",
    "\\end{array} \\right).\n",
    "$$\n",
    "On fixe par ailleurs\n",
    "$$\n",
    "f(u)= -K\\, u^3 + e_1 \\quad (7)\n",
    "$$\n",
    "où $e_1 = (1,0,0,\\ldots , 0)^T$ est le premier vecteur de la base canonique de $\\mathbb{R}^n$\n",
    "et on note\n",
    "$$\n",
    "u^3=(u_1^3, u_2^3, \\ldots , u_n^3)^T.\n",
    "$$\n",
    "Ce système décrit une chaîne de $n$ oscillateurs non linéaires cubiques\n",
    "(du même type que dans la section 3) couplés à leurs proches voisins.\n",
    "Une extrémité de la chaîne est soumise à une force constante unitaire, l'autre\n",
    "extrémité étant fixe."
   ]
  },
  {
   "cell_type": "markdown",
   "metadata": {},
   "source": [
    "#### Question 14\n",
    "Montrer que la matrice $K$ est symétrique définie positive."
   ]
  },
  {
   "cell_type": "markdown",
   "metadata": {},
   "source": [
    "Réponse : Tout d'abord, il est évident que K est une matrice symétrique réelle. \n",
    "<br><br>\n",
    "Pour montrer que cette matrice est définie positive,\n",
    "<br><br>\n",
    "1) supposons qu'il existe une factorisation de Cholensky $K=TT^T$\n",
    "2) Rappelons l'algorithme de Cholesky pour une matrice tridiagonale\n",
    "3) Calculons alors les coefficients de T pour la matrice K \n",
    "4) Vérifions que $K = T.T^T$ \n",
    "5) Montrons que $\\forall x\\in R^n - \\left\\{ 0 \\right\\}, x^TKx > 0$\n",
    "<br><br>\n",
    "Etape 1: Supposons qu'il existe une matrice $T$ triangulaire inf tel que $K=TT^T$\n",
    "<br><br>\n",
    "Etape 2 :\n",
    "<br><br>\n",
    "Selon le cours, $\\forall j \\in \\left\\{1,...,n\\right\\} t_{jj}=\\sqrt{(k_{jj}-\\sum\\limits_{l<j}t_{jl}²)}\\\\\n",
    "\\forall i \\in [j+1,n], t_{ij}=\\dfrac{1}{t_{jj}}(k_{ij}-\\sum\\limits_{l<j}t_{il}t_{jl})$\n",
    "Dans notre cas: On a vue en TD que, comme $K$ est tridiagonale, si sa facto de Cholesky T existe,alors $T$ est bidiagonale.\n",
    "<br><br>\n",
    "$\\forall l\\ne j,j-1,t_{jl}=0\\\\$\n",
    "Donc, si $j > 1$ : $t_{jj}=\\sqrt{(k_{jj}-t_{j,j-1}²)}$ et $ \\\\ t_{11}=\\sqrt{k_{11}} $\n",
    "<br><br>\n",
    "\n",
    "$\\begin{align*}\\forall j<n : t_{j+1,j}&=\\dfrac{1}{t_{jj}}.(k_{j+1,j}-\\sum\\limits_{l<j}t_{j+1,l}.t_{j,l})\\\\&=\\dfrac{k_{j+1,j}}{t_{jj}}\\end{align*}$\n",
    "<br><br>\n",
    "Tous les autres coeffs sont nuls.\n",
    "<br><br>\n",
    "Etape 3: \n",
    "<br><br>\n",
    "Ainsi,ici, on montre par réccurence simple que \n",
    "<br><br>\n",
    "$ \\forall i<n : t_{i+1,i} = -\\sqrt{\\dfrac{i}{i+1}} \\\\ t_{11}=\\sqrt{2}\\\\ \\forall i \\in {2,...,n-1},t_{ii}= \\sqrt{\\dfrac{i+1}{i}}\\\\ t_{nn}=\\sqrt{\\dfrac{1}{n}}$ \n",
    "<br><br>\n",
    "$$\n",
    "T =\\left(\n",
    "\\begin{array}{cccccc}\n",
    " \\sqrt{2}  & 0 & 0 & 0 & \\ldots & 0 \\\\\n",
    " -\\sqrt{\\dfrac{1}{2}} & \\sqrt{\\dfrac{3}{2}}  & 0 & 0 & & \\vdots \\\\\n",
    "0 & -\\sqrt{\\dfrac{2}{3}}  & -\\sqrt{\\dfrac{4}{3}}   &  0 & \\ddots & \\vdots \\\\\n",
    "\\vdots & 0 & -\\sqrt{\\dfrac{3}{4}}  & \\ddots & \\ddots & 0 \\\\\n",
    "\\vdots & & \\ddots & \\ddots & 2 & 0 \\\\\n",
    "0 & \\ldots & \\ldots & 0 & -\\sqrt{\\dfrac{n-1}{n}}  & \\sqrt{\\dfrac{1}{n}} \n",
    "\\end{array} \\right).\n",
    "$$\n",
    "\n",
    "<br><br>\n",
    "Étape 4:\n",
    "<br><br>\n",
    "$\\forall i \\in {2,...,n-1} : (TT^T)_{ii}=t_{i,i-1}²+t_{ii}²=\\dfrac{i-1}{i}\\dfrac{i+1}{i}=2=k_{ii}\\\\ \\forall i<n : (TT^T)_{i+1,i}=t_{i+1,i}t_{ii}=-\\sqrt{\\dfrac{i}{i+1}}\\sqrt{\\dfrac{i+1}{i}}=-1=k_{i+1}{i}$\n",
    "\n",
    "<br><br>\n",
    "On a bien $K=TT^T$\n",
    "<br><br>\n",
    "Étape 5:\n",
    "<br><br>\n",
    "$\\forall x \\in \\mathbb{R}^n - {0}, x^T.K.x = x^T.TT^T.x=(T^Tx)^T.T^Tx=||T^Tx||_2\\gt 0$\n",
    "<br><br>\n",
    "**CONCLUSION : K est une matrice symétrique définie positive.**"
   ]
  },
  {
   "cell_type": "markdown",
   "metadata": {},
   "source": [
    "#### Question 15\n",
    "Montrer que l'équation (3) admet une unique solution d'équilibre $(u^\\ast , v^\\ast) \\in \\mathbb{R}^n \\times \\mathbb{R}^n$ qu'on calculera explicitement."
   ]
  },
  {
   "cell_type": "markdown",
   "metadata": {},
   "source": [
    "Réponse :\n",
    "\n",
    "On cherche $u*$ tel que $f(u*)=0 \\implies Ku*³=e_1$ . On remarque que $u*=(1,1,...,1)^T$, est solution de ce système linéaire.\n",
    "La solution de ce système linéaire est unique puisque $K$ est symétrique définie positive donc inversible. \n",
    "\n",
    "Ensuite, $v*=Cu*=\\mu K u* = \\mu(1,0,...,0)^T$. v* est également unique pour la même raison. \n",
    "$$\n",
    "\\boxed{u*=(1,1,...,1)^T \\\\ v*= (\\mu,0,...,0)^T}\n",
    "$$"
   ]
  },
  {
   "cell_type": "markdown",
   "metadata": {},
   "source": [
    "On veut approcher numériquement la solution $(u(t),v(t))$\n",
    "de (3) pour une condition initiale $(u(0),v(0))$ donnée et $t \\in [0,T]$\n",
    "en utilisant le schéma (4)."
   ]
  },
  {
   "cell_type": "markdown",
   "metadata": {},
   "source": [
    "#### Question 16\n",
    "Définir une fonction **fvec** qui à un vecteur $u$ associe le vecteur $f(u)$ défini par (7).\n",
    "Tester cette fonction sur le vecteur $u^\\ast$."
   ]
  },
  {
   "cell_type": "code",
   "execution_count": null,
   "metadata": {},
   "outputs": [
    {
     "name": "stdout",
     "output_type": "stream",
     "text": [
      "[0. 0. 0. 0. 0. 0. 0. 0. 0. 0. 0. 0. 0. 0.]\n"
     ]
    }
   ],
   "source": [
    "def fvec(u):\n",
    "    n=len(u)\n",
    "    y=np.zeros(n)  ## résultat\n",
    "    y[0]=2*(u[0]**3)-u[1]**3\n",
    "    y[-1]=(u[-1]**3)-u[-2]**3\n",
    "    for i in range(1,n-1):\n",
    "        y[i]=(2*u[i]**3)-(u[i-1]**3)-(u[i+1]**3)\n",
    "    e1=np.zeros(n)\n",
    "    e1[0]=1\n",
    "    return e1-y\n",
    "    \n",
    "print(fvec(np.array([1,1,1,1,1,1,1,1,1,1,1,1,1,1])))"
   ]
  },
  {
   "cell_type": "markdown",
   "metadata": {},
   "source": [
    "#### Question 17\n",
    "Ecrire une fonction **factorise** (prenant en arguments $n$, $\\mu$ et $h$) qui calcule\n",
    "la factorisation $A = L\\, U = L\\, D\\, L^t$ de la matrice tridiagonale symétrique définie positive $A$ définie par (5).\n",
    "On rappelle que $L$ et $D$ sont de la forme\n",
    "$$\n",
    "L =\\left(\n",
    "\\begin{array}{cccccc}\n",
    " 1  & 0 & 0 & 0 & \\ldots & 0 \\\\\n",
    " l_0 & 1  & 0 & 0 & & \\vdots \\\\\n",
    "0 & l_1 & 1  & 0 & \\ddots & \\vdots \\\\\n",
    "\\vdots & 0 & l_2 & \\ddots & \\ddots & 0 \\\\\n",
    "\\vdots & & \\ddots & \\ddots & \\ddots & 0 \\\\\n",
    "0 & \\ldots & \\ldots & 0 & l_{n-2} & 1 \n",
    "\\end{array} \\right), \\quad\n",
    "D =\\left(\n",
    "\\begin{array}{cccccc}\n",
    " d_0  & 0 & 0 & 0 & \\ldots & 0 \\\\\n",
    " 0 & d_1  & 0 & 0 & & \\vdots \\\\\n",
    "0 & 0 & d_2  & 0 & \\ddots & \\vdots \\\\\n",
    "\\vdots & 0 & 0 & \\ddots & \\ddots & 0 \\\\\n",
    "\\vdots & & \\ddots & \\ddots & \\ddots & 0 \\\\\n",
    "0 & \\ldots & \\ldots & 0 & 0 & d_{n-1} \n",
    "\\end{array} \\right)\n",
    "$$\n",
    "avec $d_{i}>0$.\n",
    "La fonction fournit en sortie deux vecteurs contenant \n",
    "les coefficients sous-diagonaux de $L$ et diagonaux de $D$.\n",
    "Tester cette fonction pour des valeurs de votre choix de $n$, $\\mu$ et $h$."
   ]
  },
  {
   "cell_type": "code",
   "execution_count": null,
   "metadata": {},
   "outputs": [
    {
     "data": {
      "text/plain": [
       "(array([-0.08333333, -0.08391608, -0.08392019, -0.08392022, -0.08392022,\n",
       "        -0.08392022, -0.08392022, -0.08392022, -0.08392022, -0.08392022,\n",
       "        -0.08392022, -0.08392022, -0.08392022, -0.08392022]),\n",
       " array([1.2       , 1.19166667, 1.19160839, 1.19160798, 1.19160798,\n",
       "        1.19160798, 1.19160798, 1.19160798, 1.19160798, 1.19160798,\n",
       "        1.19160798, 1.19160798, 1.19160798, 1.19160798, 1.09160798]))"
      ]
     },
     "execution_count": 9,
     "metadata": {},
     "output_type": "execute_result"
    }
   ],
   "source": [
    "def factorise(n,µ,h):\n",
    "    A=np.zeros((n,n)) ## matrice A=I + mu*h/2*K\n",
    "    A[0,0]=1+h*µ\n",
    "    A[0,1]=-µ*h/2\n",
    "    for i in range(1,n-1):  ## on construit la matrice A pour simplicité de calcul\n",
    "        A[i,i-1]=-µ*h/2\n",
    "        A[i,i+1]=-µ*h/2\n",
    "        A[i,i]=1+µ*h\n",
    "    A[n-1,n-2]=-µ*h/2\n",
    "    A[n-1,n-1]=1+µ*h/2\n",
    "    L=np.zeros(n-1)\n",
    "    D=np.zeros(n)\n",
    "    D[0]=A[0,0]\n",
    "    for i in range(1,n):\n",
    "        l=A[i,i-1]/A[i-1,i-1]\n",
    "        A[i,:]=A[i,:]-l*A[i-1,:]\n",
    "        L[i-1]=l\n",
    "        D[i]=A[i,i]\n",
    "    return (L,D)\n",
    "factorise(15,2,0.1)\n",
    "    "
   ]
  },
  {
   "cell_type": "markdown",
   "metadata": {},
   "source": [
    "#### Question 18\n",
    "\n",
    "Ecrire une fonction **solchaine**\n",
    "(prenant en arguments la condition initiale $(u(0),v(0))$, le temps maximal d'intégration $T$ et le pas $h$)\n",
    "qui calcule la solution numérique $(u^{(k)},v^{(k)})$ aux temps $t_k = k\\, h \\in [0,T]$.\n",
    "La fonction fournit en sortie\n",
    "les valeurs de $u^{(k)}$, $v^{(k)}$ pour $0 \\leq k \\leq k_{\\mathrm{max}}$\n",
    "sous la forme de deux matrices de taille $n \\times (k_{\\mathrm{max}}+1)$ \n",
    "$$\n",
    "[u^{(0)},u^{(1)},\\ldots , u^{(k_{\\mathrm{max}})}], \\quad\n",
    "[v^{(0)},v^{(1)},\\ldots , v^{(k_{\\mathrm{max}})}].\n",
    "$$\n",
    "La factorisation $A=L\\, D\\, L^t$ est calculée avant de démarrer les itérations (4), puis\n",
    "à chaque itération on résout l'équation (4)-(b) par simple descente/remontée.\n",
    "Tester cette fonction sur la condition initiale $[u(0), v(0)]=[u^{\\ast}, v^{\\ast}]$\n",
    "pour des valeurs de votre choix de $n$, $\\mu$, $T$ et $h$."
   ]
  },
  {
   "cell_type": "code",
   "execution_count": null,
   "metadata": {},
   "outputs": [
    {
     "name": "stdout",
     "output_type": "stream",
     "text": [
      "(array([[1., 1., 1., ..., 1., 1., 1.],\n",
      "       [1., 1., 1., ..., 1., 1., 1.],\n",
      "       [1., 1., 1., ..., 1., 1., 1.],\n",
      "       ...,\n",
      "       [1., 1., 1., ..., 1., 1., 1.],\n",
      "       [1., 1., 1., ..., 1., 1., 1.],\n",
      "       [1., 1., 1., ..., 1., 1., 1.]]), array([[ 2.00000000e+00,  2.00000000e+00,  2.00000000e+00, ...,\n",
      "         2.00000000e+00,  2.00000000e+00,  2.00000000e+00],\n",
      "       [ 0.00000000e+00,  3.33066907e-17,  1.33226763e-16, ...,\n",
      "        -1.16573418e-15, -1.09912079e-15, -1.13242749e-15],\n",
      "       [ 0.00000000e+00, -3.33066907e-17, -1.33226763e-16, ...,\n",
      "        -1.03250741e-15, -1.09912079e-15, -1.06581410e-15],\n",
      "       ...,\n",
      "       [ 0.00000000e+00, -2.22044605e-17, -6.66133815e-17, ...,\n",
      "         5.55111512e-17, -1.11022302e-17, -7.77156117e-17],\n",
      "       [ 0.00000000e+00,  0.00000000e+00,  0.00000000e+00, ...,\n",
      "        -5.99520433e-16, -4.66293670e-16, -3.33066907e-16],\n",
      "       [ 0.00000000e+00,  0.00000000e+00,  0.00000000e+00, ...,\n",
      "         1.09912079e-15,  1.03250741e-15,  9.65894031e-16]]))\n"
     ]
    }
   ],
   "source": [
    "def calcul_matrice(u,h,µ,n,i):\n",
    "    res=np.zeros(n)\n",
    "    res[0]=(1-h*µ)*u[0,i-1]+(h/2)*µ*u[1,i-1]\n",
    "    for j in range(1,n-1):\n",
    "        res[j]=(1-h*µ)*u[j,i-1]+(h/2)*µ*u[j-1,i-1]+(h/2)*µ*u[j+1,i-1]\n",
    "    res[-1]=(h/2)*µ*u[j-1,i-1]+(1-(h/2)*µ)*u[-1,i-1]\n",
    "    return res\n",
    "\n",
    "\n",
    "\n",
    "def solve_ldlt(l, d, b):\n",
    "    n = len(d)\n",
    "    y = np.zeros(n)\n",
    "    x = np.zeros(n)\n",
    "    \n",
    "    # Solve Ly = b\n",
    "    y[0] = b[0]\n",
    "    for i in range(1, n):\n",
    "        y[i] = b[i] - l[i-1] * y[i-1]\n",
    "    \n",
    "    # Solve Dz = y\n",
    "    z=np.zeros(n)\n",
    "    for i in range(0,n):\n",
    "        z[i]=y[i]/d[i]\n",
    "    \n",
    "    # Solve L^Tx = z\n",
    "    x[n-1] = z[n-1]\n",
    "    for i in range(n-2, -1, -1):\n",
    "        x[i] = z[i] - l[i] * x[i+1]\n",
    "    \n",
    "    return x\n",
    "\n",
    "\n",
    "def solchaine(CI,T,h):\n",
    "    k_max=T/h\n",
    "    k_max=int(k_max)\n",
    "    n=10\n",
    "    µ=2\n",
    "    L,D=factorise(n,µ,h)\n",
    "    u=np.zeros((n,k_max+1))\n",
    "    v=np.zeros((n,k_max+1))\n",
    "    u[:,0]=CI[0]\n",
    "    v[:,0]=CI[1]\n",
    "    for i in range(1,k_max+1):\n",
    "        v_demi=v[:,i-1]+(h/2)*fvec(u[:,i-1])\n",
    "        facteur=calcul_matrice(u,h,µ,n,i)   ## ici on calcule ( I - h/2*mu*K)*u^k\n",
    "        b= facteur+h*v_demi                 ## on met sous la forme Au(k+1)=b\n",
    "        u[:,i]=solve_ldlt(L,D,b)\n",
    "        v[:,i]=v_demi + (h/2)*fvec(u[:,i])\n",
    "    return u,v\n",
    "\n",
    "CI=(np.array([1,1,1,1,1,1,1,1,1,1]),np.array([2,0,0,0,0,0,0,0,0,0]))\n",
    "print(solchaine(CI,20,0.1))"
   ]
  },
  {
   "cell_type": "markdown",
   "metadata": {},
   "source": [
    "Dans les questions 19 et 20, on simule le système (1) pour la condition initiale (6) correspondant à la chaîne au repos.\n",
    "On note $u_{\\mathrm{app}}(j,t_k)$ l'approximation numérique de la solution $u_j(t_k)$ de (1)-(6),\n",
    "et $u^\\prime_{\\mathrm{app}}(j,t_k)$ celle de $u_j^\\prime(t_k)$. On a donc\n",
    "$$\n",
    "u^\\prime_{\\mathrm{app}}(.,t_k) = v^{(k)}-\\mu\\, K\\, u^{(k)}.\n",
    "$$"
   ]
  },
  {
   "cell_type": "markdown",
   "metadata": {},
   "source": [
    "#### Question 19\n",
    "On choisit comme pas d'intégration $h=10^{-3}$.\n",
    "Pour $n=5$ et $\\mu = 0.5$, calculer la solution numérique de (1)-(6) sur un intervalle $[0,T]$ bien choisi et\n",
    "tracer les graphes de $u_{\\mathrm{app}}(j,t)$ et $u^\\prime_{\\mathrm{app}}(j,t)$ en fonction de $t$\n",
    "pour $j=1,3,5$ (i.e. pour les oscillateurs situés en début, milieu et fin de chaîne).\n",
    "Quel est l'ordre de grandeur du temps $t_{\\mathrm{eq}}$ nécessaire pour atteindre un état proche de l'équilibre ?\n",
    "On pourra fixer comme critère\n",
    "$\\| u(t)-u^\\ast \\|_\\infty < 10^{-3}$ pour tout $t \\geq t_{\\mathrm{eq}}$.\n",
    "Comparer ce temps à celui observé pour $n=1$ (modèle étudié dans la section 3 avec $C=0.5$)."
   ]
  },
  {
   "cell_type": "code",
   "execution_count": null,
   "metadata": {},
   "outputs": [
    {
     "ename": "NameError",
     "evalue": "name 'K' is not defined",
     "output_type": "error",
     "traceback": [
      "\u001b[0;31m---------------------------------------------------------------------------\u001b[0m",
      "\u001b[0;31mNameError\u001b[0m                                 Traceback (most recent call last)",
      "\u001b[0;32m/tmp/ipykernel_263486/4141756844.py\u001b[0m in \u001b[0;36m<cell line: 7>\u001b[0;34m()\u001b[0m\n\u001b[1;32m      6\u001b[0m \u001b[0mv_k\u001b[0m\u001b[0;34m,\u001b[0m\u001b[0mu_k\u001b[0m\u001b[0;34m=\u001b[0m\u001b[0msolchaine\u001b[0m\u001b[0;34m(\u001b[0m\u001b[0mnp\u001b[0m\u001b[0;34m.\u001b[0m\u001b[0marray\u001b[0m\u001b[0;34m(\u001b[0m\u001b[0;34m[\u001b[0m\u001b[0;36m0\u001b[0m\u001b[0;34m,\u001b[0m\u001b[0;36m0\u001b[0m\u001b[0;34m]\u001b[0m\u001b[0;34m)\u001b[0m\u001b[0;34m,\u001b[0m\u001b[0mT\u001b[0m\u001b[0;34m,\u001b[0m\u001b[0mh\u001b[0m\u001b[0;34m)\u001b[0m\u001b[0;34m\u001b[0m\u001b[0;34m\u001b[0m\u001b[0m\n\u001b[1;32m      7\u001b[0m \u001b[0;32mfor\u001b[0m \u001b[0mj\u001b[0m \u001b[0;32min\u001b[0m \u001b[0mJ\u001b[0m\u001b[0;34m:\u001b[0m\u001b[0;34m\u001b[0m\u001b[0;34m\u001b[0m\u001b[0m\n\u001b[0;32m----> 8\u001b[0;31m     \u001b[0muu_app\u001b[0m\u001b[0;34m[\u001b[0m\u001b[0mj\u001b[0m\u001b[0;34m]\u001b[0m\u001b[0;34m=\u001b[0m\u001b[0mv_k\u001b[0m\u001b[0;34m[\u001b[0m\u001b[0mj\u001b[0m\u001b[0;34m]\u001b[0m \u001b[0;34m-\u001b[0m \u001b[0mµ\u001b[0m\u001b[0;34m*\u001b[0m\u001b[0mnp\u001b[0m\u001b[0;34m.\u001b[0m\u001b[0mdot\u001b[0m\u001b[0;34m(\u001b[0m\u001b[0mK\u001b[0m\u001b[0;34m,\u001b[0m\u001b[0mu_k\u001b[0m\u001b[0;34m)\u001b[0m\u001b[0;34m[\u001b[0m\u001b[0mj\u001b[0m\u001b[0;34m]\u001b[0m\u001b[0;34m*\u001b[0m\u001b[0mu_k\u001b[0m\u001b[0;34m[\u001b[0m\u001b[0mj\u001b[0m\u001b[0;34m]\u001b[0m\u001b[0;34m\u001b[0m\u001b[0;34m\u001b[0m\u001b[0m\n\u001b[0m\u001b[1;32m      9\u001b[0m \u001b[0;34m\u001b[0m\u001b[0m\n\u001b[1;32m     10\u001b[0m \u001b[0;34m\u001b[0m\u001b[0m\n",
      "\u001b[0;31mNameError\u001b[0m: name 'K' is not defined"
     ]
    }
   ],
   "source": [
    "h=10**(-3)\n",
    "n=5\n",
    "µ=0.5\n",
    "T=25\n",
    "J=[1,3,5]\n",
    "v_k,u_k=solchaine(np.array([0,0]),T,h)\n",
    "for j in J:\n",
    "    uu_app[j]=v_k[j] - µ*np.dot(K,u_k)[j]*u_k[j]\n",
    "    \n",
    "    \n"
   ]
  },
  {
   "cell_type": "markdown",
   "metadata": {},
   "source": [
    "#### Question 20\n",
    "\n",
    "Calculer $u_{\\mathrm{app}}$ pour $n=100$ et $\\mu = 5$, en fixant\n",
    "$T=2500$ et $h=10^{-2}$.\n",
    "Décrire les différents phénomènes qu'on peut observer \n",
    "avant que le système atteigne un état voisin de l'équilibre.\n",
    "Pour étayer votre analyse, afficher un échantillon de graphes bien choisis :\n",
    "\n",
    "-graphes des \n",
    "fonctions $t \\mapsto u_{\\mathrm{app}}(j,t)$ à différents noeuds $j$,\n",
    "\n",
    "-graphe de $j \\mapsto u_{\\mathrm{app}}(j,t)$ à différents temps $t$,\n",
    "\n",
    "-graphe animé de $j \\mapsto u_{\\mathrm{app}}(j,t)$ lorsque \n",
    "$t$ décrit l'intervalle $[0,T]$, en utilisant \n",
    "la fonction **FuncAnimation()** du module animation de Matplotlib."
   ]
  },
  {
   "cell_type": "code",
   "execution_count": null,
   "metadata": {},
   "outputs": [],
   "source": [
    "# Enable interactive plot\n",
    "%matplotlib notebook"
   ]
  }
 ],
 "metadata": {
  "kernelspec": {
   "display_name": "Python 3 (ipykernel)",
   "language": "python",
   "name": "python3"
  },
  "language_info": {
   "codemirror_mode": {
    "name": "ipython",
    "version": 3
   },
   "file_extension": ".py",
   "mimetype": "text/x-python",
   "name": "python",
   "nbconvert_exporter": "python",
   "pygments_lexer": "ipython3",
   "version": "3.10.6"
  }
 },
 "nbformat": 4,
 "nbformat_minor": 2
}
