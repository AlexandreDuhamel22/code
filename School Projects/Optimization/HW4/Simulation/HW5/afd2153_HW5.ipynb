{
 "cells": [
  {
   "cell_type": "markdown",
   "id": "b430ab2f",
   "metadata": {},
   "source": [
    "# Problem 1"
   ]
  },
  {
   "cell_type": "code",
   "execution_count": 15,
   "id": "357a25b0",
   "metadata": {},
   "outputs": [
    {
     "name": "stdout",
     "output_type": "stream",
     "text": [
      "N°1 : \n",
      "100 samples:\n",
      "\tPoint estimate (mean): 2.720\n",
      "\t95% Confidence Interval: [2.548, 2.892]\n",
      "\n",
      "1000 samples:\n",
      "\tPoint estimate (mean): 2.738\n",
      "\t95% Confidence Interval: [2.681, 2.795]\n",
      "\n",
      "10000 samples:\n",
      "\tPoint estimate (mean): 2.715\n",
      "\t95% Confidence Interval: [2.698, 2.733]\n",
      "\n",
      "\n",
      "N°2 : \n",
      "100 samples:\n",
      "\tPoint estimate (mean): 4.650\n",
      "\t95% Confidence Interval: [4.415, 4.885]\n",
      "\n",
      "1000 samples:\n",
      "\tPoint estimate (mean): 4.681\n",
      "\t95% Confidence Interval: [4.607, 4.755]\n",
      "\n",
      "10000 samples:\n",
      "\tPoint estimate (mean): 4.674\n",
      "\t95% Confidence Interval: [4.649, 4.698]\n",
      "\n",
      "\n"
     ]
    }
   ],
   "source": [
    "import numpy as np\n",
    "\n",
    "def generate_N(threshold, num_samples):\n",
    "    N_values = []\n",
    "    \n",
    "    for _ in range(num_samples):\n",
    "        total_sum = 0\n",
    "        count = 0\n",
    "        \n",
    "        while total_sum <= threshold:\n",
    "            total_sum += np.random.uniform(0, 1)\n",
    "            count += 1\n",
    "        \n",
    "        N_values.append(count)\n",
    "    \n",
    "    return np.array(N_values)\n",
    "\n",
    "num_samples = [100, 1000, 10000]\n",
    "N1_2 = [1, 2]\n",
    "\n",
    "for threshold in N1_2:\n",
    "    print(f\"N°{threshold} : \")\n",
    "    for samples in num_samples:\n",
    "        N_values = generate_N(threshold, samples)\n",
    "        mean_N = np.mean(N_values)\n",
    "        std_N = np.std(N_values, ddof=1)\n",
    "        conf_interval = 1.96 * std_N / np.sqrt(samples)\n",
    "        \n",
    "        print(f\"{samples} samples:\\n\\tPoint estimate (mean): {mean_N:.3f}\\n\\t95% Confidence Interval: [{(mean_N - conf_interval):.3f}, {(mean_N + conf_interval):.3f}]\\n\")\n",
    "    print()"
   ]
  },
  {
   "cell_type": "markdown",
   "id": "d7e46096",
   "metadata": {},
   "source": [
    "# Problem 2"
   ]
  },
  {
   "cell_type": "code",
   "execution_count": 27,
   "id": "f2b45f8c",
   "metadata": {},
   "outputs": [
    {
     "name": "stdout",
     "output_type": "stream",
     "text": [
      "Point Estimate: 0.073\n",
      "95% Confidence Interval: (0.0726150775874346, 0.07372885132746626)\n"
     ]
    }
   ],
   "source": [
    "import numpy as np\n",
    "\n",
    "def monte_carlo_integral(num_samples, x_max):\n",
    "    results = []\n",
    "    \n",
    "    for _ in range(num_samples):\n",
    "        x = np.random.uniform(0, x_max)\n",
    "        y = np.random.uniform(0, x**2)\n",
    "        f_xy = np.exp(-(x + y)) * np.sin(x * y)\n",
    "        results.append(f_xy)\n",
    "    \n",
    "    estimate = (x_max / num_samples) * np.sum(results)\n",
    "    \n",
    "    return estimate, np.array(results)\n",
    "\n",
    "num_samples = 1000\n",
    "x_max = 80\n",
    "\n",
    "point_estimate, results = monte_carlo_integral(num_samples, x_max)\n",
    "\n",
    "std_dev = np.std(results, ddof=1)\n",
    "\n",
    "z_score = 1.96\n",
    "margin_of_error = z_score * std_dev / np.sqrt(num_samples)\n",
    "conf_interval = (point_estimate - margin_of_error, point_estimate + margin_of_error)\n",
    "\n",
    "print(f\"Point Estimate: {point_estimate:.3f}\")\n",
    "print(f\"95% Confidence Interval: {conf_interval}\")"
   ]
  },
  {
   "cell_type": "markdown",
   "id": "c22720e7",
   "metadata": {},
   "source": [
    "# Problem 3"
   ]
  },
  {
   "cell_type": "code",
   "execution_count": 33,
   "id": "f5270716",
   "metadata": {},
   "outputs": [
    {
     "name": "stdout",
     "output_type": "stream",
     "text": [
      "95% Confidence Interval: (114.98745566576802, 130.71254433423195)\n"
     ]
    }
   ],
   "source": [
    "import numpy as np\n",
    "import scipy.stats as stats\n",
    "\n",
    "data = [102, 112, 131, 107, 114, 95, 133, 145, 139, 117, 93, 111, 124, 122, 136, 141, 119, 122, 151, 143]\n",
    "n = len(data)\n",
    "\n",
    "sample_mean = np.mean(data)\n",
    "sample_std = np.std(data, ddof=1)\n",
    "\n",
    "confidence_level_95 = 0.95\n",
    "alpha_95 = 1 - confidence_level_95\n",
    "t_95 = 2.093\n",
    "\n",
    "margin_of_error_95 = t_95 * sample_std / np.sqrt(n)\n",
    "ci_95 = (sample_mean - margin_of_error_95, sample_mean + margin_of_error_95)\n",
    "\n",
    "print(f\"95% Confidence Interval: {ci_95}\")"
   ]
  },
  {
   "cell_type": "code",
   "execution_count": 37,
   "id": "0730d911",
   "metadata": {},
   "outputs": [
    {
     "name": "stdout",
     "output_type": "stream",
     "text": [
      "Additional replications needed: 9221.0\n"
     ]
    }
   ],
   "source": [
    "margin_of_error_99 = 0.5\n",
    "confidence_level_99 = 0.99\n",
    "alpha_99 = 1 - confidence_level_99\n",
    "t_99 = 2.861\n",
    "\n",
    "required_n = (t_99 * sample_std / margin_of_error_99) ** 2\n",
    "required_n = np.ceil(required_n) \n",
    "\n",
    "additional_replications = required_n - n\n",
    "\n",
    "print(f\"Additional replications needed: {additional_replications}\")"
   ]
  },
  {
   "cell_type": "markdown",
   "id": "a12fa1fa",
   "metadata": {},
   "source": [
    "# Problem 6"
   ]
  },
  {
   "cell_type": "code",
   "execution_count": 45,
   "id": "69687300",
   "metadata": {},
   "outputs": [
    {
     "name": "stdout",
     "output_type": "stream",
     "text": [
      "Point estimate of E[X^2]: 181.950\n",
      "Sample standard deviation of X^2: 180.031\n",
      "Number of additional replications needed: 26527826.0\n"
     ]
    }
   ],
   "source": [
    "data = np.array([5, 4, 9, 6, 21, 12, 7, 14, 17, 11, 20, 7, 10, 21, 15, 26, 9, 13, 8, 6])\n",
    "x_squared = data**2\n",
    "n = len(data)\n",
    "\n",
    "mean_x_squared = np.mean(x_squared)\n",
    "std_x_squared = np.std(x_squared, ddof=1)\n",
    "\n",
    "margin_of_error = 0.1\n",
    "confidence_level = 0.99\n",
    "alpha = 1 - confidence_level\n",
    "\n",
    "t_critical = 2.8609\n",
    "\n",
    "required_n = (t_critical * std_x_squared / margin_of_error) ** 2\n",
    "required_n = np.ceil(required_n)\n",
    "\n",
    "additional_replications = required_n - n\n",
    "\n",
    "print(f\"Point estimate of E[X^2]: {mean_x_squared:.3f}\")\n",
    "print(f\"Sample standard deviation of X^2: {std_x_squared:.3f}\")\n",
    "print(f\"Number of additional replications needed: {additional_replications}\")"
   ]
  }
 ],
 "metadata": {
  "kernelspec": {
   "display_name": "Python 3 (ipykernel)",
   "language": "python",
   "name": "python3"
  },
  "language_info": {
   "codemirror_mode": {
    "name": "ipython",
    "version": 3
   },
   "file_extension": ".py",
   "mimetype": "text/x-python",
   "name": "python",
   "nbconvert_exporter": "python",
   "pygments_lexer": "ipython3",
   "version": "3.9.12"
  }
 },
 "nbformat": 4,
 "nbformat_minor": 5
}
