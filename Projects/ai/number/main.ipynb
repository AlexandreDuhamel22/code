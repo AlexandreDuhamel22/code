{
 "cells": [
  {
   "cell_type": "markdown",
   "metadata": {
    "vscode": {
     "languageId": "latex"
    }
   },
   "source": [
    "## Draw by hand"
   ]
  },
  {
   "cell_type": "code",
   "execution_count": 4,
   "metadata": {},
   "outputs": [
    {
     "ename": "KeyboardInterrupt",
     "evalue": "",
     "output_type": "error",
     "traceback": [
      "\u001b[0;31m---------------------------------------------------------------------------\u001b[0m",
      "\u001b[0;31mKeyboardInterrupt\u001b[0m                         Traceback (most recent call last)",
      "Cell \u001b[0;32mIn[4], line 6\u001b[0m\n\u001b[1;32m      3\u001b[0m images_folder\u001b[38;5;241m=\u001b[39m\u001b[38;5;124m\"\u001b[39m\u001b[38;5;124mcaptured_images/0/\u001b[39m\u001b[38;5;124m\"\u001b[39m\n\u001b[1;32m      5\u001b[0m \u001b[38;5;28;01mfor\u001b[39;00m i \u001b[38;5;129;01min\u001b[39;00m \u001b[38;5;28mrange\u001b[39m(\u001b[38;5;241m0\u001b[39m,\u001b[38;5;241m100\u001b[39m):\n\u001b[0;32m----> 6\u001b[0m    \u001b[43mtime\u001b[49m\u001b[38;5;241;43m.\u001b[39;49m\u001b[43msleep\u001b[49m\u001b[43m(\u001b[49m\u001b[38;5;241;43m8\u001b[39;49m\u001b[43m)\u001b[49m\n\u001b[1;32m      7\u001b[0m    im\u001b[38;5;241m=\u001b[39mImageGrab\u001b[38;5;241m.\u001b[39mgrab(bbox\u001b[38;5;241m=\u001b[39m(\u001b[38;5;241m60\u001b[39m,\u001b[38;5;241m170\u001b[39m,\u001b[38;5;241m400\u001b[39m,\u001b[38;5;241m550\u001b[39m)) \u001b[38;5;66;03m#x1,y1,x2,y2\u001b[39;00m\n\u001b[1;32m      8\u001b[0m    \u001b[38;5;28mprint\u001b[39m(\u001b[38;5;124m\"\u001b[39m\u001b[38;5;124msaved......\u001b[39m\u001b[38;5;124m\"\u001b[39m,i)\n",
      "\u001b[0;31mKeyboardInterrupt\u001b[0m: "
     ]
    }
   ],
   "source": [
    "import pyscreenshot as ImageGrab\n",
    "import time\n",
    "images_folder=\"captured_images/0/\"\n",
    "  \n",
    "for i in range(0,100):\n",
    "   time.sleep(8)\n",
    "   im=ImageGrab.grab(bbox=(60,170,400,550)) #x1,y1,x2,y2\n",
    "   print(\"saved......\",i)\n",
    "   im.save(images_folder+str(i)+'.png')\n",
    "   print(\"clear screen now and redraw now........\")"
   ]
  },
  {
   "cell_type": "code",
   "execution_count": null,
   "metadata": {},
   "outputs": [],
   "source": [
    "import pyscreenshot as ImageGrab\n",
    "import time\n",
    "images_folder=\"captured_images/0/\"\n",
    "  \n",
    "for i in range(0,100):\n",
    "   time.sleep(8)\n",
    "   im = ImageGrab.grab(bbox=(60,170,400,550)) #x1,y1,x2,y2\n",
    "   print(\"saved......\",i)\n",
    "   im.save(images_folder+str(i)+'.png')\n",
    "   print(\"clear screen now and redraw now........\")"
   ]
  },
  {
   "cell_type": "markdown",
   "metadata": {},
   "source": [
    "## Generate dataset"
   ]
  },
  {
   "cell_type": "code",
   "execution_count": 29,
   "metadata": {},
   "outputs": [],
   "source": [
    "import cv2\n",
    "import glob\n",
    "import csv\n",
    "import numpy as np\n",
    "\n",
    "# Generate dataset and save to CSV\n",
    "header = [\"label\"] + [\"pixel\" + str(i) for i in range(28 * 28)]\n",
    "\n",
    "with open(\"dataset.csv\", \"w\") as f:\n",
    "    writer = csv.writer(f)\n",
    "    writer.writerow(header)\n",
    "\n",
    "for label in range(10):\n",
    "    # Get list of PNG images for the current label\n",
    "    dirList = glob.glob(f\"./captured_images_final/{label}/*.png\")\n",
    "    \n",
    "    for img_path in dirList:\n",
    "        # Read the image, including alpha channel\n",
    "        im = cv2.imread(img_path, cv2.IMREAD_UNCHANGED)\n",
    "        \n",
    "        # Handle transparency: Replace transparent background with white\n",
    "        if im.shape[2] == 4:  # Check if image has alpha channel\n",
    "            alpha_channel = im[:, :, 3]\n",
    "            rgb_channels = im[:, :, :3]\n",
    "            # Create a white background\n",
    "            white_background = np.ones_like(rgb_channels, dtype=np.uint8) * 255\n",
    "            # Blend RGB with white background where alpha is transparent\n",
    "            mask = (alpha_channel == 0)\n",
    "            im = rgb_channels.copy()\n",
    "            im[mask] = white_background[mask]\n",
    "        else:\n",
    "            im = im[:, :, :3]  # If no alpha channel, use RGB as is\n",
    "        \n",
    "        # Convert to grayscale\n",
    "        im_gray = cv2.cvtColor(im, cv2.COLOR_BGR2GRAY)\n",
    "        \n",
    "        # Resize to 28x28\n",
    "        im_resized = cv2.resize(im_gray, (28, 28), interpolation=cv2.INTER_AREA)\n",
    "        \n",
    "        # Convert black to `1` and white to `0`\n",
    "        data = [label]\n",
    "        for pixel in im_resized.flatten():\n",
    "            data.append(1 if pixel < 128 else 0)\n",
    "        \n",
    "        # Write data to CSV\n",
    "        with open(\"dataset.csv\", \"a\") as f:\n",
    "            writer = csv.writer(f)\n",
    "            writer.writerow(data)\n"
   ]
  },
  {
   "cell_type": "code",
   "execution_count": 27,
   "metadata": {},
   "outputs": [
    {
     "data": {
      "image/png": "[encoded data removed]",
      "text/plain": [
       "<Figure size 640x480 with 1 Axes>"
      ]
     },
     "metadata": {},
     "output_type": "display_data"
    }
   ],
   "source": [
    "import pandas as pd\n",
    "import matplotlib.pyplot as plt\n",
    "import numpy as np\n",
    "\n",
    "# Load the dataset\n",
    "data = pd.read_csv(\"dataset.csv\")\n",
    "\n",
    "# Ensure `row_idx` is within the valid range\n",
    "row_idx = 0  # Change this index as needed\n",
    "if row_idx >= len(data):\n",
    "    raise ValueError(f\"Invalid row index. The dataset has only {len(data)} rows.\")\n",
    "\n",
    "# Extract label and pixel values\n",
    "row = data.iloc[row_idx]\n",
    "label = row[\"label\"]  # Extract the label (first column)\n",
    "pixels = row[1:].values  # Extract pixel values (remaining columns)\n",
    "\n",
    "# Reshape pixel values into a 28x28 grid\n",
    "image = pixels.reshape(28, 28).astype(np.uint8)\n",
    "\n",
    "# Display the image\n",
    "plt.imshow(image, cmap=\"gray\")\n",
    "plt.title(f\"Label: {label}\")\n",
    "plt.axis(\"off\")\n",
    "plt.show()\n"
   ]
  },
  {
   "cell_type": "code",
   "execution_count": null,
   "metadata": {},
   "outputs": [],
   "source": [
    "import pandas as pd\n",
    "from sklearn.utils import shuffle\n",
    "from sklearn.model_selection import train_test_split\n",
    "from sklearn.svm import SVC\n",
    "from sklearn import metrics\n",
    "import joblib\n",
    "\n",
    "# Load and shuffle the dataset\n",
    "data = pd.read_csv(\"dataset.csv\")\n",
    "data = shuffle(data)\n",
    "\n",
    "# Separate features (X) and labels (Y)\n",
    "X = data.drop(\"label\", axis=1)\n",
    "Y = data[\"label\"]\n",
    "\n",
    "# Split the data into training and testing sets\n",
    "train_x, test_x, train_y, test_y = train_test_split(X, Y, test_size=0.2, random_state=42)\n",
    "\n",
    "# Train the SVM model\n",
    "classifier = SVC(kernel=\"linear\", random_state=42)\n",
    "classifier.fit(train_x, train_y)\n",
    "\n",
    "# Save the trained model\n",
    "joblib.dump(classifier, \"digit_recognizer.pkl\")\n",
    "\n",
    "# Evaluate the model on the test set\n",
    "predictions = classifier.predict(test_x)\n",
    "accuracy = metrics.accuracy_score(test_y, predictions)\n",
    "print(f\"Model accuracy: {accuracy * 100:.2f}%\")\n"
   ]
  },
  {
   "cell_type": "code",
   "execution_count": null,
   "metadata": {},
   "outputs": [],
   "source": []
  }
 ],
 "metadata": {
  "language_info": {
   "name": "python"
  }
 },
 "nbformat": 4,
 "nbformat_minor": 2
}
