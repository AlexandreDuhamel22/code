{
 "cells": [
  {
   "cell_type": "markdown",
   "id": "22c137c9",
   "metadata": {},
   "source": [
    "# Problem 1"
   ]
  },
  {
   "cell_type": "code",
   "execution_count": 5,
   "id": "75d436bb",
   "metadata": {},
   "outputs": [
    {
     "name": "stdout",
     "output_type": "stream",
     "text": [
      "Estimated probability that all channels are busy at the 10th hour: 0.2000\n"
     ]
    }
   ],
   "source": [
    "import numpy as np\n",
    "\n",
    "arrival_rate = 2          \n",
    "num_channels = 3          \n",
    "channel_mean_time = 1     \n",
    "end_time = 10             \n",
    "num_simulations = 100\n",
    "\n",
    "def simulate_poisson_process_interarrival(end_time, rate):\n",
    "    arrival_times = []\n",
    "    current_time = 0\n",
    "    while current_time < end_time:\n",
    "        interarrival_time = np.random.exponential(1 / rate)\n",
    "        current_time += interarrival_time\n",
    "        if current_time < end_time:\n",
    "            arrival_times.append(current_time)\n",
    "    return arrival_times\n",
    "\n",
    "def probability():\n",
    "    all_busy_count = 0\n",
    "    \n",
    "    for _ in range(num_simulations):\n",
    "        arrival_times = simulate_poisson_process_interarrival(end_time, arrival_rate)\n",
    "        \n",
    "        channel_occupancy = [0] * num_channels\n",
    "        \n",
    "        for arrival_time in arrival_times:\n",
    "            free_channel = None\n",
    "            for i in range(num_channels):\n",
    "                if channel_occupancy[i] <= arrival_time:\n",
    "                    free_channel = i\n",
    "                    break\n",
    "            \n",
    "            if free_channel is not None:\n",
    "                occupancy_time = np.random.exponential(channel_mean_time)\n",
    "                channel_occupancy[free_channel] = arrival_time + occupancy_time\n",
    "        \n",
    "        if all(end_time <= occupancy for occupancy in channel_occupancy):\n",
    "            all_busy_count += 1\n",
    "\n",
    "    return all_busy_count / num_simulations\n",
    "\n",
    "busy_probability = probability()\n",
    "print(f\"Estimated probability that all channels are busy at the 10th hour: {busy_probability:.4f}\")"
   ]
  },
  {
   "cell_type": "markdown",
   "id": "89ea507c",
   "metadata": {},
   "source": [
    "# Problem 2"
   ]
  },
  {
   "cell_type": "code",
   "execution_count": 1,
   "id": "03529d87",
   "metadata": {},
   "outputs": [
    {
     "data": {
      "image/png": "[encoded data removed]",
      "text/plain": [
       "<Figure size 640x480 with 1 Axes>"
      ]
     },
     "metadata": {},
     "output_type": "display_data"
    }
   ],
   "source": [
    "import numpy as np\n",
    "import matplotlib.pyplot as plt\n",
    "\n",
    "rho = 1\n",
    "t = 10\n",
    "num_customers = 5\n",
    "num_replications = 100\n",
    "\n",
    "average_remaining_times = []\n",
    "\n",
    "for _ in range(num_replications):\n",
    "    remaining_times = []\n",
    "\n",
    "    for _ in range(num_customers):\n",
    "        arrival_time = np.random.uniform(0, t)\n",
    "    \n",
    "        remaining_time = np.random.uniform(0, t - arrival_time)\n",
    "        \n",
    "        remaining_times.append(remaining_time)\n",
    "    \n",
    "    average_remaining_times.append(np.mean(remaining_times))\n",
    "\n",
    "plt.hist(average_remaining_times, bins=20, edgecolor='k', alpha=0.7)\n",
    "plt.title(\"Histogram of Average Remaining Times for 5 Customers\")\n",
    "plt.xlabel(\"Average Remaining Time\")\n",
    "plt.ylabel(\"Frequency\")\n",
    "plt.show()"
   ]
  },
  {
   "cell_type": "markdown",
   "id": "d0e97615",
   "metadata": {},
   "source": [
    "# Problem 3"
   ]
  },
  {
   "cell_type": "code",
   "execution_count": 21,
   "id": "c0ef45ef",
   "metadata": {},
   "outputs": [
    {
     "name": "stdout",
     "output_type": "stream",
     "text": [
      "Expected time-averaged number of customers (inter-arrival): 9.6898\n"
     ]
    }
   ],
   "source": [
    "def lambda_t(t):\n",
    "    return 2 + np.cos(2 * np.pi * t)\n",
    "\n",
    "# Inter-arrival time approach to simulate the inhomogeneous Poisson process\n",
    "def simulate_interarrival_approach(T=10, lambda_max=3):\n",
    "    times = []\n",
    "    current_time = 0\n",
    "    while current_time < T:\n",
    "        U = np.random.uniform(0, 1)\n",
    "        delta_t = -np.log(U) / lambda_max\n",
    "        current_time += delta_t\n",
    "        if current_time >= T:\n",
    "            break\n",
    "        if np.random.uniform(0, 1) <= lambda_t(current_time) / lambda_max:\n",
    "            times.append(current_time)\n",
    "    return times\n",
    "\n",
    "# Estimate E[∫_0^10 N(t) dt] using replication\n",
    "def estimate_time_averaged_customers(replications=100, T=10):\n",
    "    integrals = []\n",
    "    for _ in range(replications):\n",
    "        arrival_times = simulate_interarrival_approach(T)\n",
    "        \n",
    "        # Add start and end times for convenience\n",
    "        arrival_times = [0] + arrival_times + [T]\n",
    "        \n",
    "        # Sum over intervals between arrival times\n",
    "        integral_estimate = sum((arrival_times[i+1] - arrival_times[i]) * i\n",
    "                                for i in range(len(arrival_times) - 1)) / T\n",
    "        integrals.append(integral_estimate)\n",
    "    \n",
    "    # Average across replications\n",
    "    return np.mean(integrals)\n",
    "\n",
    "# Run the estimation\n",
    "expected_time_averaged_customers_interarrival = estimate_time_averaged_customers()\n",
    "print(f\"Expected time-averaged number of customers (inter-arrival): {expected_time_averaged_customers_interarrival:.4f}\")"
   ]
  },
  {
   "cell_type": "code",
   "execution_count": 24,
   "id": "5a5f54c6",
   "metadata": {},
   "outputs": [
    {
     "name": "stdout",
     "output_type": "stream",
     "text": [
      "Expected time-averaged number of customers (conditional): 10.1266\n"
     ]
    }
   ],
   "source": [
    "import numpy as np\n",
    "\n",
    "def cumulative_intensity(T):\n",
    "    return 2 * T  # Since integral of lambda(t) over [0, T] is 2*T\n",
    "\n",
    "def simulate_conditional_representation(T=10):\n",
    "    Lambda_T = cumulative_intensity(T)\n",
    "    N_T = np.random.poisson(Lambda_T)\n",
    "    arrival_times = np.sort(np.random.uniform(0, T, N_T))\n",
    "    return arrival_times\n",
    "\n",
    "# Run the estimation\n",
    "expected_time_averaged_customers_conditional = estimate_time_averaged_customers()\n",
    "print(f\"Expected time-averaged number of customers (conditional): {expected_time_averaged_customers_conditional:.4f}\")"
   ]
  },
  {
   "cell_type": "code",
   "execution_count": 29,
   "id": "4dffce44",
   "metadata": {},
   "outputs": [
    {
     "name": "stdout",
     "output_type": "stream",
     "text": [
      "Expected time-averaged number of customers (alternative): 10.3743\n"
     ]
    }
   ],
   "source": [
    "import numpy as np\n",
    "\n",
    "def inverse_cdf(U, T=10):\n",
    "    Lambda_T = cumulative_intensity(T)\n",
    "    lower, upper = 0, T\n",
    "    epsilon = 1e-6\n",
    "    while upper - lower > epsilon:\n",
    "        mid = (lower + upper) / 2\n",
    "        F_mid = (2 * mid + (1 / (2 * np.pi)) * np.sin(2 * np.pi * mid)) / Lambda_T\n",
    "        if F_mid < U:\n",
    "            lower = mid\n",
    "        else:\n",
    "            upper = mid\n",
    "    return (lower + upper) / 2\n",
    "\n",
    "def simulate_alternative_method(T=10):\n",
    "    Lambda_T = 20\n",
    "    N_T = np.random.poisson(Lambda_T)\n",
    "    arrival_times = [inverse_cdf(np.random.uniform(0, 1), T) for _ in range(N_T)]\n",
    "    return sorted(arrival_times)\n",
    "\n",
    "# Run the estimation\n",
    "expected_time_averaged_customers_alternative = estimate_time_averaged_customers()\n",
    "print(f\"Expected time-averaged number of customers (alternative): {expected_time_averaged_customers_alternative:.4f}\")"
   ]
  }
 ],
 "metadata": {
  "kernelspec": {
   "display_name": "Python (env)",
   "language": "python",
   "name": "env"
  },
  "language_info": {
   "codemirror_mode": {
    "name": "ipython",
    "version": 3
   },
   "file_extension": ".py",
   "mimetype": "text/x-python",
   "name": "python",
   "nbconvert_exporter": "python",
   "pygments_lexer": "ipython3",
   "version": "3.9.20"
  }
 },
 "nbformat": 4,
 "nbformat_minor": 5
}
