{
 "cells": [
  {
   "cell_type": "markdown",
   "id": "5fb90066",
   "metadata": {},
   "source": [
    "# Problem 3"
   ]
  },
  {
   "cell_type": "code",
   "execution_count": null,
   "id": "230fe5ed",
   "metadata": {},
   "outputs": [],
   "source": [
    "import numpy as np\n",
    "import matplotlib.pyplot as plt\n",
    "\n",
    "# Set the random seed for reproducibility\n",
    "np.random.seed(42)\n",
    "\n",
    "# Parameters\n",
    "lambda_arrival = 2  # Arrival rate (customers per minute)\n",
    "mu_service = 1      # Service rate (customers per minute)\n",
    "num_customers = 10  # Number of customers to simulate\n",
    "num_replications = 100  # Number of simulation replications"
   ]
  },
  {
   "cell_type": "code",
   "execution_count": 6,
   "id": "488609be",
   "metadata": {},
   "outputs": [
    {
     "name": "stdout",
     "output_type": "stream",
     "text": [
      "Part (a): Naive Monte Carlo Simulation\n",
      "Point Estimate: 38.2929 minutes\n",
      "Variance per Replication: 457.9150\n"
     ]
    }
   ],
   "source": [
    "# Part (a): Naive Monte Carlo Simulation\n",
    "\n",
    "total_time_in_system_list = []\n",
    "\n",
    "for replication in range(num_replications):\n",
    "    arrival_times = np.cumsum(np.random.exponential(scale=1/lambda_arrival, size=num_customers))\n",
    "    service_times = np.random.exponential(scale=1/mu_service, size=num_customers)\n",
    "    start_service_times = np.zeros(num_customers)\n",
    "    completion_times = np.zeros(num_customers)\n",
    "    time_in_system = np.zeros(num_customers)\n",
    "\n",
    "    start_service_times[0] = arrival_times[0]\n",
    "    completion_times[0] = start_service_times[0] + service_times[0]\n",
    "    time_in_system[0] = completion_times[0] - arrival_times[0]\n",
    "\n",
    "    for i in range(1, num_customers):\n",
    "        start_service_times[i] = max(arrival_times[i], completion_times[i-1])\n",
    "        completion_times[i] = start_service_times[i] + service_times[i]\n",
    "        time_in_system[i] = completion_times[i] - arrival_times[i]\n",
    "\n",
    "    total_time_in_system = np.sum(time_in_system)\n",
    "    total_time_in_system_list.append(total_time_in_system)\n",
    "\n",
    "point_estimate_naive = np.mean(total_time_in_system_list)\n",
    "variance_per_replication_naive = np.var(total_time_in_system_list, ddof=1)\n",
    "\n",
    "print(\"Part (a): Naive Monte Carlo Simulation\")\n",
    "print(f\"Point Estimate: {point_estimate_naive:.4f} minutes\")\n",
    "print(f\"Variance per Replication: {variance_per_replication_naive:.4f}\")"
   ]
  },
  {
   "cell_type": "code",
   "execution_count": 7,
   "id": "deb25c43",
   "metadata": {},
   "outputs": [
    {
     "name": "stdout",
     "output_type": "stream",
     "text": [
      "\n",
      "Part (b): Control Variate with Total Service Time\n",
      "Optimal Beta: 5.2783\n",
      "Point Estimate: 36.2446 minutes\n",
      "Variance per Replication: 91.9840\n",
      "Variance Reduction: 79.91%\n"
     ]
    }
   ],
   "source": [
    "# Part (b): Control Variate with Total Service Time\n",
    "\n",
    "expected_total_service_time = num_customers * (1 / mu_service)\n",
    "\n",
    "total_time_in_system_list = []\n",
    "total_service_time_list = []\n",
    "\n",
    "for replication in range(num_replications):\n",
    "    arrival_times = np.cumsum(np.random.exponential(scale=1/lambda_arrival, size=num_customers))\n",
    "    service_times = np.random.exponential(scale=1/mu_service, size=num_customers)\n",
    "    start_service_times = np.zeros(num_customers)\n",
    "    completion_times = np.zeros(num_customers)\n",
    "    time_in_system = np.zeros(num_customers)\n",
    "\n",
    "    start_service_times[0] = arrival_times[0]\n",
    "    completion_times[0] = start_service_times[0] + service_times[0]\n",
    "    time_in_system[0] = completion_times[0] - arrival_times[0]\n",
    "\n",
    "    for i in range(1, num_customers):\n",
    "        start_service_times[i] = max(arrival_times[i], completion_times[i-1])\n",
    "        completion_times[i] = start_service_times[i] + service_times[i]\n",
    "        time_in_system[i] = completion_times[i] - arrival_times[i]\n",
    "\n",
    "    total_time_in_system = np.sum(time_in_system)\n",
    "    total_service_time = np.sum(service_times)\n",
    "\n",
    "    total_time_in_system_list.append(total_time_in_system)\n",
    "    total_service_time_list.append(total_service_time)\n",
    "\n",
    "total_time_in_system_array = np.array(total_time_in_system_list)\n",
    "total_service_time_array = np.array(total_service_time_list)\n",
    "\n",
    "covariance = np.cov(total_time_in_system_array, total_service_time_array, ddof=1)[0, 1]\n",
    "variance_service_time = np.var(total_service_time_array, ddof=1)\n",
    "beta_optimal = covariance / variance_service_time\n",
    "\n",
    "adjusted_estimates = total_time_in_system_array - beta_optimal * (total_service_time_array - expected_total_service_time)\n",
    "\n",
    "point_estimate_cv = np.mean(adjusted_estimates)\n",
    "variance_per_replication_cv = np.var(adjusted_estimates, ddof=1)\n",
    "\n",
    "print(\"\\nPart (b): Control Variate with Total Service Time\")\n",
    "print(f\"Optimal Beta: {beta_optimal:.4f}\")\n",
    "print(f\"Point Estimate: {point_estimate_cv:.4f} minutes\")\n",
    "print(f\"Variance per Replication: {variance_per_replication_cv:.4f}\")\n",
    "\n",
    "variance_reduction = ((variance_per_replication_naive - variance_per_replication_cv) / variance_per_replication_naive) * 100\n",
    "print(f\"Variance Reduction: {variance_reduction:.2f}%\")"
   ]
  },
  {
   "cell_type": "code",
   "execution_count": 8,
   "id": "b5ea15d4",
   "metadata": {},
   "outputs": [
    {
     "name": "stdout",
     "output_type": "stream",
     "text": [
      "\n",
      "Part (c): Control Variate with Total Service Time minus Total Interarrival Time\n",
      "Optimal Beta: 4.4266\n",
      "Point Estimate: 34.7598 minutes\n",
      "Variance per Replication: 81.8711\n",
      "Variance Reduction compared to Naive Simulation: 82.12%\n",
      "Variance Reduction compared to Part (b): 0.00%\n"
     ]
    }
   ],
   "source": [
    "# Part (c): Control Variate with Total Service Time minus Total Interarrival Time\n",
    "\n",
    "expected_total_service_time = num_customers * (1 / mu_service)\n",
    "expected_total_interarrival_time = num_customers * (1 / lambda_arrival)\n",
    "expected_control_variate = expected_total_service_time - expected_total_interarrival_time\n",
    "\n",
    "total_time_in_system_list = []\n",
    "control_variate_list = []\n",
    "\n",
    "for replication in range(num_replications):\n",
    "    interarrival_times = np.random.exponential(scale=1/lambda_arrival, size=num_customers)\n",
    "    arrival_times = np.cumsum(interarrival_times)\n",
    "    service_times = np.random.exponential(scale=1/mu_service, size=num_customers)\n",
    "    start_service_times = np.zeros(num_customers)\n",
    "    completion_times = np.zeros(num_customers)\n",
    "    time_in_system = np.zeros(num_customers)\n",
    "\n",
    "    start_service_times[0] = arrival_times[0]\n",
    "    completion_times[0] = start_service_times[0] + service_times[0]\n",
    "    time_in_system[0] = completion_times[0] - arrival_times[0]\n",
    "\n",
    "    for i in range(1, num_customers):\n",
    "        start_service_times[i] = max(arrival_times[i], completion_times[i-1])\n",
    "        completion_times[i] = start_service_times[i] + service_times[i]\n",
    "        time_in_system[i] = completion_times[i] - arrival_times[i]\n",
    "\n",
    "    total_time_in_system = np.sum(time_in_system)\n",
    "    total_service_time = np.sum(service_times)\n",
    "    total_interarrival_time = np.sum(interarrival_times)\n",
    "    control_variate = total_service_time - total_interarrival_time\n",
    "\n",
    "    total_time_in_system_list.append(total_time_in_system)\n",
    "    control_variate_list.append(control_variate)\n",
    "\n",
    "total_time_in_system_array = np.array(total_time_in_system_list)\n",
    "control_variate_array = np.array(control_variate_list)\n",
    "\n",
    "covariance = np.cov(total_time_in_system_array, control_variate_array, ddof=1)[0, 1]\n",
    "variance_control_variate = np.var(control_variate_array, ddof=1)\n",
    "beta_optimal = covariance / variance_control_variate\n",
    "\n",
    "adjusted_estimates = total_time_in_system_array - beta_optimal * (control_variate_array - expected_control_variate)\n",
    "\n",
    "point_estimate_cv = np.mean(adjusted_estimates)\n",
    "variance_per_replication_cv = np.var(adjusted_estimates, ddof=1)\n",
    "\n",
    "print(\"\\nPart (c): Control Variate with Total Service Time minus Total Interarrival Time\")\n",
    "print(f\"Optimal Beta: {beta_optimal:.4f}\")\n",
    "print(f\"Point Estimate: {point_estimate_cv:.4f} minutes\")\n",
    "print(f\"Variance per Replication: {variance_per_replication_cv:.4f}\")\n",
    "\n",
    "variance_reduction = ((variance_per_replication_naive - variance_per_replication_cv) / variance_per_replication_naive) * 100\n",
    "print(f\"Variance Reduction compared to Naive Simulation: {variance_reduction:.2f}%\")\n",
    "\n",
    "variance_reduction_b = ((variance_per_replication_cv - variance_per_replication_cv) / variance_per_replication_cv) * 100\n",
    "print(f\"Variance Reduction compared to Part (b): {variance_reduction_b:.2f}%\")"
   ]
  },
  {
   "cell_type": "markdown",
   "id": "e58a7efe",
   "metadata": {},
   "source": [
    "# Problem 4"
   ]
  },
  {
   "cell_type": "code",
   "execution_count": 9,
   "id": "825892b1",
   "metadata": {},
   "outputs": [],
   "source": [
    "import numpy as np\n",
    "from scipy.stats import beta, norm, bernoulli\n",
    "\n",
    "# Set the random seed for reproducibility\n",
    "np.random.seed(42)\n",
    "\n",
    "# Parameters\n",
    "N = 100  # Number of loans\n",
    "alpha = 1  # Beta distribution parameter for P\n",
    "beta_param = 19  # Beta distribution parameter for P\n",
    "expected_P = alpha / (alpha + beta_param)  # Expected value of P\n",
    "expected_Xn = 3  # Expected loss given default\n",
    "variance_Xn = 1  # Variance of loss given default\n",
    "x = 45  # Threshold for total loss\n",
    "num_replications = 100  # Number of simulation replications"
   ]
  },
  {
   "cell_type": "code",
   "execution_count": 10,
   "id": "12eb4aaa",
   "metadata": {},
   "outputs": [
    {
     "name": "stdout",
     "output_type": "stream",
     "text": [
      "Naive Monte Carlo Simulation\n",
      "Point Estimate of P(L > 45): 0.0300\n",
      "Variance per Replication: 0.029100\n"
     ]
    }
   ],
   "source": [
    "# Naive Monte Carlo Simulation\n",
    "\n",
    "indicator_values = []\n",
    "\n",
    "for replication in range(num_replications):\n",
    "    P = np.random.beta(alpha, beta_param)\n",
    "\n",
    "    D_n = np.random.binomial(1, P, size=N) \n",
    "    \n",
    "    num_defaults = np.sum(D_n)\n",
    "    X_defaults = np.random.normal(loc=3, scale=1, size=num_defaults)\n",
    "    \n",
    "    X_n = np.zeros(N)\n",
    "    X_n[D_n == 1] = X_defaults\n",
    "    \n",
    "    L = np.sum(X_n)\n",
    "    \n",
    "    indicator = 1 if L > x else 0\n",
    "    indicator_values.append(indicator)\n",
    "\n",
    "point_estimate_naive = np.mean(indicator_values)\n",
    "\n",
    "variance_naive = point_estimate_naive * (1 - point_estimate_naive)\n",
    "\n",
    "print(\"Naive Monte Carlo Simulation\")\n",
    "print(f\"Point Estimate of P(L > {x}): {point_estimate_naive:.4f}\")\n",
    "print(f\"Variance per Replication: {variance_naive:.6f}\")"
   ]
  },
  {
   "cell_type": "code",
   "execution_count": 11,
   "id": "6d3845b4",
   "metadata": {},
   "outputs": [
    {
     "name": "stdout",
     "output_type": "stream",
     "text": [
      "\n",
      "Conditional Monte Carlo Simulation\n",
      "Point Estimate of P(L > 45): 0.0436\n",
      "Variance per Replication: 0.016077\n"
     ]
    }
   ],
   "source": [
    "# Conditional Monte Carlo Simulation\n",
    "\n",
    "PL_given_P_values = []\n",
    "\n",
    "for replication in range(num_replications):\n",
    "    P = np.random.beta(alpha, beta_param)\n",
    "    \n",
    "    mu_L_given_P = 3 * N * P  \n",
    "    \n",
    "    var_L_given_P = N * P * (1 + 9 * (1 - P))\n",
    "    \n",
    "    sigma_L_given_P = np.sqrt(var_L_given_P)\n",
    "    \n",
    "    if sigma_L_given_P > 0:\n",
    "        z = (x - mu_L_given_P) / sigma_L_given_P\n",
    "        PL_given_P = 1 - norm.cdf(z)\n",
    "    else:\n",
    "        PL_given_P = 1.0 if mu_L_given_P > x else 0.0\n",
    "    \n",
    "    PL_given_P_values.append(PL_given_P)\n",
    "\n",
    "point_estimate_conditional = np.mean(PL_given_P_values)\n",
    "\n",
    "variance_conditional = np.var(PL_given_P_values, ddof=1)\n",
    "\n",
    "print(\"\\nConditional Monte Carlo Simulation\")\n",
    "print(f\"Point Estimate of P(L > {x}): {point_estimate_conditional:.4f}\")\n",
    "print(f\"Variance per Replication: {variance_conditional:.6f}\")"
   ]
  },
  {
   "cell_type": "code",
   "execution_count": 12,
   "id": "5232a814",
   "metadata": {},
   "outputs": [
    {
     "name": "stdout",
     "output_type": "stream",
     "text": [
      "\n",
      "Performance Comparison\n",
      "Variance Reduction: 44.75%\n"
     ]
    }
   ],
   "source": [
    "# Variance Reduction\n",
    "variance_reduction = ((variance_naive - variance_conditional) / variance_naive) * 100\n",
    "\n",
    "print(\"\\nPerformance Comparison\")\n",
    "print(f\"Variance Reduction: {variance_reduction:.2f}%\")"
   ]
  },
  {
   "cell_type": "code",
   "execution_count": null,
   "id": "6461b496",
   "metadata": {},
   "outputs": [],
   "source": []
  }
 ],
 "metadata": {
  "kernelspec": {
   "display_name": "Python (env)",
   "language": "python",
   "name": "env"
  },
  "language_info": {
   "codemirror_mode": {
    "name": "ipython",
    "version": 3
   },
   "file_extension": ".py",
   "mimetype": "text/x-python",
   "name": "python",
   "nbconvert_exporter": "python",
   "pygments_lexer": "ipython3",
   "version": "3.9.20"
  }
 },
 "nbformat": 4,
 "nbformat_minor": 5
}
