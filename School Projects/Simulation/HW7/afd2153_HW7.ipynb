{
 "cells": [
  {
   "cell_type": "markdown",
   "id": "c952e013",
   "metadata": {},
   "source": [
    "# Problem 1"
   ]
  },
  {
   "cell_type": "code",
   "execution_count": 1,
   "id": "0d8ee016",
   "metadata": {},
   "outputs": [],
   "source": [
    "import numpy as np\n",
    "\n",
    "P = np.array([\n",
    "    [0.5, 0.33, 0.17],\n",
    "    [0, 0.33, 0.67],  \n",
    "    [0.5, 0, 0.5]\n",
    "])\n",
    "\n",
    "def next_state(current_state):\n",
    "    return np.random.choice([0, 1, 2], p=P[current_state])\n",
    "\n",
    "np.random.seed(0)"
   ]
  },
  {
   "cell_type": "code",
   "execution_count": 8,
   "id": "87b57ebd",
   "metadata": {},
   "outputs": [
    {
     "name": "stdout",
     "output_type": "stream",
     "text": [
      "P(X10 = 1 | X0 = 0): 0.1600\n"
     ]
    }
   ],
   "source": [
    "# (c) P(X10 = 1 | X0 = 0)\n",
    "\n",
    "def estimate_prob_X10_equals_1(initial_state=0, N=100, time_step=10):\n",
    "    count = 0\n",
    "    for _ in range(N):\n",
    "        state = initial_state\n",
    "        for _ in range(time_step):\n",
    "            state = next_state(state)\n",
    "        if state == 1:\n",
    "            count += 1\n",
    "    return count / N\n",
    "\n",
    "prob_X10_equals_1 = estimate_prob_X10_equals_1()\n",
    "print(f\"P(X10 = 1 | X0 = 0): {prob_X10_equals_1:.4f}\")"
   ]
  },
  {
   "cell_type": "code",
   "execution_count": 9,
   "id": "d11de85f",
   "metadata": {},
   "outputs": [
    {
     "name": "stdout",
     "output_type": "stream",
     "text": [
      "E[X10 | X0 = 0]: 1.1600\n"
     ]
    }
   ],
   "source": [
    "# Part (d): Estimate E[X10 | X0 = 0]\n",
    "def estimate_expected_X10(initial_state=0, N=100, time_step=10):\n",
    "    total = 0\n",
    "    for _ in range(N):\n",
    "        state = initial_state\n",
    "        for _ in range(time_step):\n",
    "            state = next_state(state)\n",
    "        total += state\n",
    "    return total / N\n",
    "\n",
    "expected_X10 = estimate_expected_X10()\n",
    "print(f\"E[X10 | X0 = 0]: {expected_X10:.4f}\")"
   ]
  },
  {
   "cell_type": "code",
   "execution_count": 10,
   "id": "32fafadf",
   "metadata": {},
   "outputs": [
    {
     "name": "stdout",
     "output_type": "stream",
     "text": [
      "P(T <= 10 | X0 = 0): 0.8900\n"
     ]
    }
   ],
   "source": [
    "# Part (e): Estimate P(T <= 10 | X0 = 0), where T = min{n : Xn = 1}\n",
    "def estimate_prob_T_leq_10(initial_state=0, N=100, time_limit=10):\n",
    "    count = 0\n",
    "    for _ in range(N):\n",
    "        state = initial_state\n",
    "        for step in range(time_limit + 1):\n",
    "            if state == 1:\n",
    "                count += 1\n",
    "                break\n",
    "            state = next_state(state)\n",
    "    return count / N\n",
    "\n",
    "prob_T_leq_10 = estimate_prob_T_leq_10()\n",
    "print(f\"P(T <= 10 | X0 = 0): {prob_T_leq_10:.4f}\")"
   ]
  },
  {
   "cell_type": "code",
   "execution_count": 14,
   "id": "22c7cde3",
   "metadata": {},
   "outputs": [
    {
     "name": "stdout",
     "output_type": "stream",
     "text": [
      "E[T | X0 = 0]: 4.3500\n"
     ]
    }
   ],
   "source": [
    "# Part (f): Estimate E[T | X0 = 0], where T = min{n : Xn = 1}\n",
    "def estimate_expected_T(initial_state=0, N=100):\n",
    "    total_steps = 0\n",
    "    count = 0\n",
    "    for _ in range(N):\n",
    "        state = initial_state\n",
    "        steps = 0\n",
    "        while state != 1:\n",
    "            state = next_state(state)\n",
    "            steps += 1\n",
    "            if steps > 100:  # Avoid infinite loop in case it never reaches state 1\n",
    "                break\n",
    "        if steps <= 100:\n",
    "            total_steps += steps\n",
    "            count += 1\n",
    "    return total_steps / count if count > 0 else None\n",
    "\n",
    "expected_T = estimate_expected_T()\n",
    "print(f\"E[T | X0 = 0]: {expected_T:.4f}\")"
   ]
  },
  {
   "cell_type": "code",
   "execution_count": 11,
   "id": "c4d5acb9",
   "metadata": {},
   "outputs": [
    {
     "name": "stdout",
     "output_type": "stream",
     "text": [
      "Long-run proportions: State 0: 0.4031, State 1: 0.2058, State 2: 0.3911\n"
     ]
    }
   ],
   "source": [
    "# Part (g): Long-run proportions of visits to states 0, 1, and 2\n",
    "def long_run_proportions(initial_state=0, steps=10000, burn_in=100):\n",
    "    state_counts = np.zeros(3)\n",
    "    state = initial_state\n",
    "    for step in range(steps):\n",
    "        state = next_state(state)\n",
    "        if step >= burn_in:\n",
    "            state_counts[state] += 1\n",
    "    return state_counts / (steps - burn_in)\n",
    "\n",
    "proportions = long_run_proportions()\n",
    "print(f\"Long-run proportions: State 0: {proportions[0]:.4f}, State 1: {proportions[1]:.4f}, State 2: {proportions[2]:.4f}\")"
   ]
  },
  {
   "cell_type": "code",
   "execution_count": 16,
   "id": "17b746cf",
   "metadata": {},
   "outputs": [
    {
     "name": "stdout",
     "output_type": "stream",
     "text": [
      "Long-run average cost: 1.8014\n"
     ]
    }
   ],
   "source": [
    "# Part (h): Long-run average cost with costs 1, 3, and 2 for states 0, 1, and 2\n",
    "def long_run_average_cost(initial_state=0, steps=10000, burn_in=100):\n",
    "    costs = {0: 1, 1: 3, 2: 2}\n",
    "    total_cost = 0\n",
    "    state = initial_state\n",
    "    for step in range(steps):\n",
    "        state = next_state(state)\n",
    "        if step >= burn_in:\n",
    "            total_cost += costs[state]\n",
    "    return total_cost / (steps - burn_in)\n",
    "\n",
    "average_cost = long_run_average_cost()\n",
    "print(f\"Long-run average cost: {average_cost:.4f}\")"
   ]
  },
  {
   "cell_type": "markdown",
   "id": "96f73e7a",
   "metadata": {},
   "source": [
    "# Problem 2"
   ]
  },
  {
   "cell_type": "code",
   "execution_count": 9,
   "id": "c8f8ee12",
   "metadata": {},
   "outputs": [
    {
     "name": "stdout",
     "output_type": "stream",
     "text": [
      "Long-run average number of active individuals: 42.90\n"
     ]
    }
   ],
   "source": [
    "N = 100  \n",
    "alpha = 0.2 \n",
    "beta = 0.4  \n",
    "initial_active = 10\n",
    "total_steps = 10000\n",
    "burn_in = 1000   \n",
    "\n",
    "\n",
    "def simulate_X_chain(N, alpha, beta, initial_active, total_steps, burn_in):\n",
    "    X_n = initial_active\n",
    "    active_counts = [] \n",
    "\n",
    "    for step in range(total_steps):\n",
    "        new_active_count = 0 \n",
    "\n",
    "        # Currently active individua\n",
    "        for _ in range(X_n):\n",
    "            if np.random.uniform(0, 1) < alpha:  \n",
    "                # If active individual remains active\n",
    "                new_active_count += 1  # Increment active count\n",
    "            elif np.random.uniform(0, 1) > alpha:  \n",
    "                # If this condition is not met, the individual becomes inactive, so no increment\n",
    "                new_active_count += 0\n",
    "            \n",
    "        # Currently inactive individual\n",
    "        for _ in range(N - X_n):\n",
    "            if np.random.uniform(0, 1) >= beta:  \n",
    "                # If inactive individual becomes active\n",
    "                new_active_count += 1  # Increment active count\n",
    "            elif np.random.uniform(0, 1) < beta:  \n",
    "                # If this condition is not met, the individual remains inactive, so no increment\n",
    "                new_active_count += 0 \n",
    "            \n",
    "        X_n = new_active_count\n",
    "\n",
    "        if step >= burn_in:\n",
    "            active_counts.append(X_n)\n",
    "\n",
    "    long_run_average = np.mean(active_counts)\n",
    "    return long_run_average\n",
    "\n",
    "long_run_average_active = simulate_X_chain(N, alpha, beta, initial_active, total_steps, burn_in)\n",
    "print(f\"Long-run average number of active individuals: {long_run_average_active:.2f}\")"
   ]
  },
  {
   "cell_type": "code",
   "execution_count": 14,
   "id": "a72a7aa8",
   "metadata": {},
   "outputs": [
    {
     "name": "stdout",
     "output_type": "stream",
     "text": [
      "Long-run probability that more active individuals come from the initially active group than the initially inactive group: 0.0000\n"
     ]
    }
   ],
   "source": [
    "initial_Y = 10\n",
    "initial_Z = 0\n",
    "\n",
    "def simulate_YZ_chain(N, alpha, beta, initial_Y, initial_Z, total_steps, burn_in):\n",
    "    Y_n = initial_Y \n",
    "    Z_n = initial_Z\n",
    "    Y_greater_than_Z_count = 0  \n",
    "\n",
    "    for step in range(total_steps):\n",
    "        new_Y_n = 0\n",
    "        new_Z_n = 0\n",
    "\n",
    "        # Initially active individual\n",
    "        for _ in range(Y_n):\n",
    "            if np.random.uniform(0, 1) < alpha:\n",
    "                # Remains active\n",
    "                new_Y_n += 1\n",
    "\n",
    "        # Initially inactive individual who became active (in Zn)\n",
    "        for _ in range(Z_n):\n",
    "            if np.random.uniform(0, 1) < beta:\n",
    "                # Remains inactive, so not counted in new_Z_n\n",
    "                continue\n",
    "            else:\n",
    "                # Becomes active\n",
    "                new_Z_n += 1\n",
    "\n",
    "        # Initially inactive individuals who might become active\n",
    "        for _ in range(N - initial_Y - Z_n):\n",
    "            if np.random.uniform(0, 1) >= beta:\n",
    "                # Becomes active\n",
    "                new_Z_n += 1\n",
    "\n",
    "        Y_n = new_Y_n\n",
    "        Z_n = new_Z_n\n",
    "\n",
    "        if step >= burn_in:\n",
    "            if Y_n > Z_n:\n",
    "                Y_greater_than_Z_count += 1\n",
    "\n",
    "    long_run_probability = Y_greater_than_Z_count / (total_steps - burn_in)\n",
    "    return long_run_probability\n",
    "\n",
    "long_run_probability_Y_greater_Z = simulate_YZ_chain(N, alpha, beta, initial_Y, initial_Z, total_steps, burn_in)\n",
    "print(f\"Long-run probability that more active individuals come from the initially active group than the initially inactive group: {long_run_probability_Y_greater_Z:.4f}\")"
   ]
  },
  {
   "cell_type": "markdown",
   "id": "51193764",
   "metadata": {},
   "source": [
    "# Problem 3"
   ]
  },
  {
   "cell_type": "code",
   "execution_count": 21,
   "id": "0cd00af0",
   "metadata": {},
   "outputs": [
    {
     "data": {
      "image/png": "[encoded data removed]",
      "text/plain": [
       "<Figure size 640x480 with 1 Axes>"
      ]
     },
     "metadata": {},
     "output_type": "display_data"
    }
   ],
   "source": [
    "import numpy as np\n",
    "import matplotlib.pyplot as plt\n",
    "\n",
    "num_steps = 1000   \n",
    "burn_in = 100           \n",
    "initial_value = 20**(1/10) \n",
    "num_variables = 10\n",
    "\n",
    "def target_density(X):\n",
    "    if np.prod(X) > 20:\n",
    "        return np.exp(-np.sum(X))  \n",
    "    else:\n",
    "        return 0 \n",
    "\n",
    "def propose_new_state(current_state):\n",
    "    return current_state + np.random.uniform(-1, 1, size=len(current_state))\n",
    "\n",
    "X = np.full(num_variables, initial_value)  \n",
    "samples_X1 = []  \n",
    "\n",
    "# Run Metropolis-Hastings algorithm\n",
    "for step in range(num_steps):\n",
    "    proposed_X = propose_new_state(X)\n",
    "    \n",
    "    current_density = target_density(X)\n",
    "    proposed_density = target_density(proposed_X)\n",
    "    \n",
    "    acceptance_prob = min(proposed_density / current_density, 1) if current_density > 0 else 0\n",
    "\n",
    "    if np.random.uniform(0, 1) < acceptance_prob:\n",
    "        X = proposed_X  \n",
    "    \n",
    "    if step >= burn_in:\n",
    "        samples_X1.append(X[0])  \n",
    "\n",
    "plt.hist(samples_X1, bins=30, density=True, alpha=0.7, edgecolor='black')\n",
    "plt.title('Distribution of $X_1$ after Burn-in')\n",
    "plt.xlabel('$X_1$')\n",
    "plt.ylabel('Density')\n",
    "plt.show()"
   ]
  },
  {
   "cell_type": "markdown",
   "id": "894a0a30",
   "metadata": {},
   "source": [
    "# Problem 4"
   ]
  },
  {
   "cell_type": "code",
   "execution_count": 23,
   "id": "9dca9bbb",
   "metadata": {},
   "outputs": [
    {
     "name": "stdout",
     "output_type": "stream",
     "text": [
      "Estimated E[XYZ] using Metropolis-Hastings: 0.0839\n"
     ]
    }
   ],
   "source": [
    "def joint_density(x, y, z):\n",
    "    if x > 0 and y > 0 and z > 0:\n",
    "        return np.exp(-(x + y + z + x*y + x*z + y*z))\n",
    "    return 0\n",
    "\n",
    "def metropolis_hastings(num_steps=1000, burn_in=100):\n",
    "    x, y, z = 1.0, 1.0, 1.0\n",
    "    xyz_values = [] \n",
    "\n",
    "    for step in range(num_steps):\n",
    "        x_prime = x + np.random.uniform(-1, 1)\n",
    "        y_prime = y + np.random.uniform(-1, 1)\n",
    "        z_prime = z + np.random.uniform(-1, 1)\n",
    "        \n",
    "        current_density = joint_density(x, y, z)\n",
    "        proposed_density = joint_density(x_prime, y_prime, z_prime)\n",
    "        \n",
    "        alpha = min(proposed_density / current_density, 1) if current_density > 0 else 0\n",
    "        if np.random.uniform(0, 1) < alpha:\n",
    "            x, y, z = x_prime, y_prime, z_prime \n",
    "            \n",
    "        if step >= burn_in:\n",
    "            xyz_values.append(x * y * z)\n",
    "    \n",
    "    return np.mean(xyz_values)\n",
    "\n",
    "estimated_expectation_mh = metropolis_hastings()\n",
    "print(f\"Estimated E[XYZ] using Metropolis-Hastings: {estimated_expectation_mh:.4f}\")"
   ]
  },
  {
   "cell_type": "code",
   "execution_count": 24,
   "id": "8e65051e",
   "metadata": {},
   "outputs": [
    {
     "name": "stdout",
     "output_type": "stream",
     "text": [
      "Estimated E[XYZ] using Gibbs Sampler: 0.0806\n"
     ]
    }
   ],
   "source": [
    "def gibbs_sampler(num_steps=1000, burn_in=100):\n",
    "    x, y, z = 1.0, 1.0, 1.0\n",
    "    xyz_values = []\n",
    "\n",
    "    for step in range(num_steps):\n",
    "        # Sample x given y, z\n",
    "        x = np.random.exponential(scale=1 / (1 + y + z))\n",
    "        \n",
    "        # Sample y given x, z\n",
    "        y = np.random.exponential(scale=1 / (1 + x + z))\n",
    "        \n",
    "        # Sample z given x, y\n",
    "        z = np.random.exponential(scale=1 / (1 + x + y))\n",
    "        \n",
    "        if step >= burn_in:\n",
    "            xyz_values.append(x * y * z)\n",
    "            \n",
    "    return np.mean(xyz_values)\n",
    "\n",
    "estimated_expectation_gibbs = gibbs_sampler()\n",
    "print(f\"Estimated E[XYZ] using Gibbs Sampler: {estimated_expectation_gibbs:.4f}\")"
   ]
  }
 ],
 "metadata": {
  "kernelspec": {
   "display_name": "Python (env)",
   "language": "python",
   "name": "env"
  },
  "language_info": {
   "codemirror_mode": {
    "name": "ipython",
    "version": 3
   },
   "file_extension": ".py",
   "mimetype": "text/x-python",
   "name": "python",
   "nbconvert_exporter": "python",
   "pygments_lexer": "ipython3",
   "version": "3.9.20"
  }
 },
 "nbformat": 4,
 "nbformat_minor": 5
}
