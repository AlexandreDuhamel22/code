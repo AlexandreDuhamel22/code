{
 "cells": [
  {
   "cell_type": "markdown",
   "id": "7f49b083",
   "metadata": {},
   "source": [
    "# HW 1 - Alexandre Duhamel (afd2153) - MSOR"
   ]
  },
  {
   "cell_type": "markdown",
   "id": "25d1964f",
   "metadata": {},
   "source": [
    "# Question 1. (30 points) \n",
    "Please discuss the following statements and briefly explain your opinion on them in a clear and concise way. (1-3 sentences)"
   ]
  },
  {
   "cell_type": "markdown",
   "id": "7c445b5b",
   "metadata": {},
   "source": [
    "### 1. If a linear programming problem has a feasible solution, it is guaranteed to have an optimal solution."
   ]
  },
  {
   "cell_type": "markdown",
   "id": "1ee35c0a",
   "metadata": {},
   "source": [
    "A : **This is not necessarily true.** A feasible solution only means that a solution exists within the constraints. \n",
    "   However, if the objective function is unbounded, the problem might not have an optimal solution.\n",
    "\n",
    "Imagine an objective function that increases as you move up and to the right, but the feasible region is unbounded to the right and upward. In this case, even though the problem has feasible solutions, the objective function will keep increasing without bound as you move further along the unbounded region. This means there is no optimal solution, as the objective can always be improved by moving further in the direction where the region is unbounded."
   ]
  },
  {
   "cell_type": "markdown",
   "id": "f42bcb4d",
   "metadata": {},
   "source": [
    "### 2. If the feasible region of a linear programming problem is unbounded, it means the objective function can be improved indefinitely."
   ]
  },
  {
   "cell_type": "markdown",
   "id": "84f09ff3",
   "metadata": {},
   "source": [
    "A : **Not always true.** An unbounded feasible region does not guarantee that the objective function can improve indefinitely. The objective function might still reach a finite optimal value depending on its direction relative to the feasible region.\n",
    "\n",
    "Imagine an objective function that increases as you move up and to the right, while the feasible region is unbounded to the left and downward. In this case, even though the feasible region is unbounded, the objective function cannot improve indefinitely because it moves in the opposite direction of the unbounded region. The optimal solution will occur where the boundary of the feasible region intersects with the objective function."
   ]
  },
  {
   "cell_type": "markdown",
   "id": "0eba8e74",
   "metadata": {},
   "source": [
    "### 3. If an LP is feasible, then it has an optimal solution that is a corner point."
   ]
  },
  {
   "cell_type": "markdown",
   "id": "67938c5c",
   "metadata": {},
   "source": [
    "A : **True in most cases.** For linear programming, if an optimal solution exists, it will usually occur at a corner point (or a convex combination of corner points) of the feasible region like we saw in class, or as per the Fundamental Theorem of Linear Programming."
   ]
  },
  {
   "cell_type": "markdown",
   "id": "0b1fbb0f",
   "metadata": {},
   "source": [
    "### 4. The graphical solution method can only be used to solve linear programs with two decision variables."
   ]
  },
  {
   "cell_type": "markdown",
   "id": "ea8d57ed",
   "metadata": {},
   "source": [
    "A : A: **True, but it depends.** The graphical method is typically limited to two decision variables because it's easy to visualize in a 2D plane. However, for problems with three decision variables, a 3D graphical solution could be used, though it becomes more complex. Beyond three variables, graphical methods become impractical, even with computer visualization."
   ]
  },
  {
   "cell_type": "markdown",
   "id": "40e4fb45",
   "metadata": {},
   "source": [
    "# Question 2. (70 points) \n",
    "A shelter dedicated to supporting victims of human trafficking is tasked with procuring essential resources to provide comprehensive care. These resources include both cleaning supplies and personal care items, crucial for maintaining hygiene and health. The shelter procures these items from different suppliers, given in Table 1. Each month, the shelter places one order with each supplier.\n",
    "Given the limited funding and different costs of resources from each supplier, the shelter must strategically plan its purchases to minimize expenses while ensuring it meets the necessary service standards for effective victim support. The minimum required quantities for these standards are listed in Table 3. The shelter has a $2,000 monthly budget for all the resources."
   ]
  },
  {
   "cell_type": "code",
   "execution_count": 2,
   "id": "0ac790a7",
   "metadata": {},
   "outputs": [],
   "source": [
    "# Data: Supplier information , cost per unit (c_jk), and maximum supply capacity (s_jk)\n",
    "\n",
    "suppliers = ['Supplier1', 'Supplier2', 'Supplier3']\n",
    "\n",
    "resources = ['Toilet␣Paper', 'Liquid␣Soap', 'Detergent', 'Cloths', 'Toothpaste', 'Toothbrushes', 'Sanitary␣Pads', 'Shampoo']\n",
    "\n",
    "\n",
    "# Cost and maximum supply capacity for each supplier and resource\n",
    "cost_per_unit = {\n",
    "    ('Supplier1', 'Toilet␣Paper'): (0.80, 150),\n",
    "    ('Supplier1', 'Liquid␣Soap'): (6.40, 25),\n",
    "    ('Supplier1', 'Detergent'): (6.80, 20),\n",
    "    ('Supplier1', 'Cloths'): (10.00, 10),\n",
    "    ('Supplier1', 'Toothpaste'): (2.60, 50),\n",
    "    ('Supplier1', 'Toothbrushes'): (0.80, 50),\n",
    "    ('Supplier1', 'Sanitary␣Pads'): (0.20, 150),\n",
    "    ('Supplier1', 'Shampoo'): (2.30, 20),\n",
    "    ('Supplier2', 'Toilet␣Paper'): (0.95, 100),\n",
    "    ('Supplier2', 'Liquid␣Soap'): (3.98, 15),\n",
    "    ('Supplier2', 'Detergent'): (4.60, 10),\n",
    "    ('Supplier2', 'Cloths'): (11.00, 10),\n",
    "    ('Supplier2', 'Toothpaste'): (3.00, 60),\n",
    "    ('Supplier2', 'Toothbrushes'): (0.85, 60),\n",
    "    ('Supplier2', 'Sanitary␣Pads'): (0.18, 100),\n",
    "    ('Supplier2', 'Shampoo'): (1.20, 20),\n",
    "    ('Supplier3', 'Toilet␣Paper'): (0.84, 70),\n",
    "    ('Supplier3', 'Liquid␣Soap'): (5.50, 30),\n",
    "    ('Supplier3', 'Detergent'): (7.50, 15),\n",
    "    ('Supplier3', 'Cloths'): (10.50, 15),\n",
    "    ('Supplier3', 'Toothpaste'): (2.80, 30),\n",
    "    ('Supplier3', 'Toothbrushes'): (0.82, 30),\n",
    "    ('Supplier3', 'Sanitary␣Pads'): (0.15, 100),\n",
    "    ('Supplier3', 'Shampoo'): (3.00, 30)\n",
    "    }\n",
    "\n",
    "# Minimum required quantities as a dataset for a shelter housing 20 people for one month\n",
    "minimum_quantities = {\n",
    "    'Toilet␣Paper': 200,\n",
    "    'Liquid␣Soap': 40,\n",
    "    'Detergent': 30,\n",
    "    'Cloths': 20,\n",
    "    'Toothpaste': 100,\n",
    "    'Toothbrushes': 100,\n",
    "    'Sanitary␣Pads': 300,\n",
    "    'Shampoo': 40\n",
    "    }"
   ]
  },
  {
   "cell_type": "markdown",
   "id": "73d08532",
   "metadata": {},
   "source": [
    "### 1. Include a clear description of the decision variables, the objective function, and each constraint. (20 points)"
   ]
  },
  {
   "cell_type": "markdown",
   "id": "9016653c",
   "metadata": {},
   "source": [
    "#### Decision Variables:\n",
    "Let $ x_{jk} $ represent the quantity of resource $ k $ purchased from supplier $ j $, where:\n",
    "- $ j \\in \\text{suppliers} $ (Supplier1, Supplier2, Supplier3)\n",
    "- $ k \\in \\text{resources} $ (Toilet Paper, Liquid Soap, etc...)\n",
    "\n",
    "Thus, $ x_{jk} \\geq 0 $ represents the number of units of resource $ k $ purchased from supplier $ j $. These variables are continuous and non-negative.\n",
    "\n",
    "#### Objective Function:\n",
    "The goal is to minimize the total cost of procuring all the resources from the suppliers while satisfying the required constraints. Total cost:\n",
    "\n",
    "$$\n",
    "\\text{Minimize} \\quad \\sum_{j \\in \\text{suppliers}} \\sum_{k \\in \\text{resources}} c_{jk} \\cdot x_{jk}\n",
    "$$\n",
    "\n",
    "where $ c_{jk} $ represents the cost per unit of resource $ k $ from supplier $ j $, and $ x_{jk} $ is the quantity purchased from supplier $ j $ for resource $ k $.\n",
    "\n",
    "#### Constraints:\n",
    "\n",
    "1. **Minimum Required Quantities**: The total amount of each resource purchased across all suppliers must be at least the minimum quantity required by the shelter:\n",
    "   $$\n",
    "   \\sum_{j \\in \\text{suppliers}} x_{jk} \\geq \\text{minimum quantities}[k] \\quad \\forall k \\in \\text{resources}\n",
    "   $$\n",
    "   This ensures that the shelter meets the minimum necessary standards for all the resources.\n",
    "\n",
    "2. **Supplier Capacity**: The quantity of each resource purchased from a particular supplier cannot exceed the supplier's maximum supply capacity:\n",
    "   $$\n",
    "   x_{jk} \\leq s_{jk} \\quad \\forall j \\in \\text{suppliers}, \\forall k \\in \\text{resources}\n",
    "   $$\n",
    "   where $ s_{jk} $ represents the maximum supply capacity of resource $ k $ from supplier $ j $. This ensures that the purchases are within the suppliers' capabilities.\n",
    "\n",
    "3. **Budget Constraint**: The total cost of all resources purchased from all suppliers must not exceed the shelter's budget of $2,000:\n",
    "   $$\n",
    "   \\sum_{j \\in \\text{suppliers}} \\sum_{k \\in \\text{resources}} c_{jk} \\cdot x_{jk} \\leq 2000\n",
    "   $$\n",
    "\n",
    "   This ensures the shelter stays within its monthly funding limit.\n",
    "\n",
    "4. **Non-Negativity**: The quantities purchased must be non-negative:\n",
    "   $$\n",
    "   x_{jk} \\geq 0 \\quad \\forall j \\in \\text{suppliers}, \\forall k \\in \\text{resources}\n",
    "   $$\n",
    "   This ensures that no negative quantities are ordered from suppliers."
   ]
  },
  {
   "cell_type": "markdown",
   "id": "f0f106b0",
   "metadata": {},
   "source": [
    "### 2. Provide your algebraic LP formulation. (20 points)"
   ]
  },
  {
   "cell_type": "markdown",
   "id": "a4789da8",
   "metadata": {},
   "source": [
    "#### Decision Variables:\n",
    "Let $ x_{jk} $ be the quantity of resource $ k $ purchased from supplier $ j $, where:\n",
    "- $ j \\in \\{1, 2, 3\\} $ (representing Supplier1, Supplier2, Supplier3)\n",
    "- $ k \\in \\{1, 2, 3, 4, 5, 6, 7, 8\\} $ (representing the 8 resources: Toilet Paper, Liquid Soap, Detergent, Cloths, Toothpaste, Toothbrushes, Sanitary Pads, Shampoo)\n",
    "\n",
    "Thus, $ x_{jk} \\geq 0 $ represents the number of units of resource $ k $ purchased from supplier $ j $. These variables are continuous and non-negative.\n",
    "\n",
    "#### Objective Function:\n",
    "The goal is to minimize the total cost of procuring all the resources from the suppliers while satisfying the required constraints. Total cost:\n",
    "\n",
    "$$\n",
    "\\text{Minimize} \\quad \\sum_{j=1}^{3} \\sum_{k=1}^{8} c_{jk} \\cdot x_{jk}\n",
    "$$\n",
    "\n",
    "where $ c_{jk} $ is the cost per unit of resource $ k $ from supplier $ j $, and $ x_{jk} $ is the quantity purchased from supplier $ j $ for resource $ k $.\n",
    "\n",
    "#### Constraints:\n",
    "\n",
    "1. **Minimum Required Quantities**: The total amount of each resource purchased across all suppliers must be at least the minimum quantity required by the shelter:\n",
    "   $$\n",
    "   \\sum_{j=1}^{3} x_{jk} \\geq \\text{min}_k \\quad \\forall k = 1, 2, \\dots, 8\n",
    "   $$\n",
    "   This ensures that the shelter meets the minimum necessary standards for all the resources.\n",
    "\n",
    "2. **Supplier Capacity**: The quantity of each resource purchased from a particular supplier cannot exceed the supplier's maximum supply capacity:\n",
    "   $$\n",
    "   x_{jk} \\leq s_{jk} \\quad \\forall j = 1, 2, 3 \\quad \\forall k = 1, 2, \\dots, 8\n",
    "   $$\n",
    "   where $ s_{jk} $ represents the maximum supply capacity of resource $ k $ from supplier $ j $. This ensures that the purchases are within the suppliers' capabilities.\n",
    "\n",
    "3. **Budget Constraint**: The total cost of all resources purchased from all suppliers must not exceed the shelter's budget of $2,000:\n",
    "   $$\n",
    "   \\sum_{j=1}^{3} \\sum_{k=1}^{8} c_{jk} \\cdot x_{jk} \\leq 2000\n",
    "   $$\n",
    "\n",
    "   This ensures the shelter stays within its monthly funding limit.\n",
    "\n",
    "4. **Non-Negativity**: The quantities purchased must be non-negative:\n",
    "   $$\n",
    "   x_{jk} \\geq 0 \\quad \\forall j = 1, 2, 3 \\quad \\forall k = 1, 2, \\dots, 8\n",
    "   $$\n",
    "   This ensures that no negative quantities are ordered from suppliers.\n"
   ]
  },
  {
   "cell_type": "markdown",
   "id": "61a9e4dd",
   "metadata": {},
   "source": [
    "### 3. Solve the LP using any solver (e.g., Gurobi, CPLEX) and share the code/model you usedfor solving the problem. (20 points)"
   ]
  },
  {
   "cell_type": "code",
   "execution_count": 5,
   "id": "180f9b51",
   "metadata": {},
   "outputs": [
    {
     "data": {
      "text/plain": [
       "<gurobi.Constr *Awaiting Model Update*>"
      ]
     },
     "execution_count": 5,
     "metadata": {},
     "output_type": "execute_result"
    }
   ],
   "source": [
    "from gurobipy import Model, GRB, quicksum\n",
    "\n",
    "# Model\n",
    "m = Model(\"Shelter_Procurement\")\n",
    "\n",
    "# Decision variables\n",
    "x = {}\n",
    "for supplier in suppliers:\n",
    "    for resource in resources:\n",
    "        x[(supplier, resource)] = m.addVar(vtype=GRB.CONTINUOUS, name=f\"x_{supplier}_{resource}\")\n",
    "\n",
    "# Objective function\n",
    "m.setObjective(quicksum(cost_per_unit[(supplier, resource)][0] * x[(supplier, resource)] for supplier in suppliers for resource in resources), GRB.MINIMIZE)\n",
    "\n",
    "# Constraints\n",
    "# 1. Minimum required quantities\n",
    "for resource in resources:\n",
    "    m.addConstr(quicksum(x[(supplier, resource)] for supplier in suppliers) >= minimum_quantities[resource],  name=f\"min_{resource}\")\n",
    "\n",
    "# 2. Supplier capacity constraints\n",
    "for supplier in suppliers:\n",
    "    for resource in resources:\n",
    "        m.addConstr(x[(supplier, resource)] <= cost_per_unit[(supplier, resource)][1], name=f\"capacity_{supplier}_{resource}\")\n",
    "\n",
    "# 3. Budget constraint\n",
    "m.addConstr(quicksum(cost_per_unit[(supplier, resource)][0] * x[(supplier, resource)] for supplier in suppliers for resource in resources) <= 2000, name=\"budget\")"
   ]
  },
  {
   "cell_type": "code",
   "execution_count": 13,
   "id": "0599fbe3",
   "metadata": {},
   "outputs": [
    {
     "name": "stdout",
     "output_type": "stream",
     "text": [
      "Optimal solution found :) \n",
      "\n",
      "Here is your shopping list:\n",
      "\n",
      "Supplier1 :\n",
      "\t Toilet␣Paper: $120.00 for 150.0 units \n",
      "\t Detergent: $136.00 for 20.0 units \n",
      "\t Cloths: $100.00 for 10.0 units \n",
      "\t Toothpaste: $130.00 for 50.0 units \n",
      "\t Toothbrushes: $40.00 for 50.0 units \n",
      "\t Sanitary␣Pads: $20.00 for 100.0 units \n",
      "\t Shampoo: $46.00 for 20.0 units \n",
      "Supplier2 :\n",
      "\t Liquid␣Soap: $59.70 for 15.0 units \n",
      "\t Detergent: $46.00 for 10.0 units \n",
      "\t Toothpaste: $60.00 for 20.0 units \n",
      "\t Toothbrushes: $17.00 for 20.0 units \n",
      "\t Sanitary␣Pads: $18.00 for 100.0 units \n",
      "\t Shampoo: $24.00 for 20.0 units \n",
      "Supplier3 :\n",
      "\t Toilet␣Paper: $42.00 for 50.0 units \n",
      "\t Liquid␣Soap: $137.50 for 25.0 units \n",
      "\t Cloths: $105.00 for 10.0 units \n",
      "\t Toothpaste: $84.00 for 30.0 units \n",
      "\t Toothbrushes: $24.60 for 30.0 units \n",
      "\t Sanitary␣Pads: $15.00 for 100.0 units \n",
      "\n",
      "Total money spent: $1224.80\n"
     ]
    }
   ],
   "source": [
    "# Optimize the model\n",
    "m.setParam('OutputFlag', 0)  # cleaner output\n",
    "m.optimize()\n",
    "\n",
    "money_spent = 0\n",
    "# Output results\n",
    "if m.status == GRB.OPTIMAL:\n",
    "    print(\"Optimal solution found :) \\n\\nHere is your shopping list:\\n\")\n",
    "    for supplier in suppliers:\n",
    "        print(f\"{supplier} :\")\n",
    "        for resource in resources:\n",
    "            quantity = x[(supplier, resource)].x\n",
    "            if quantity > 0:\n",
    "                cost = cost_per_unit[(supplier, resource)][0]\n",
    "                total_cost = quantity * cost\n",
    "                money_spent += total_cost\n",
    "                print(f\"\\t {resource}: ${total_cost:.2f} for {quantity} units \")\n",
    "    print(f\"\\nTotal money spent: ${money_spent:.2f}\")\n",
    "else:\n",
    "    print(\"No optimal solution found.\")"
   ]
  },
  {
   "cell_type": "markdown",
   "id": "bbf42dd4",
   "metadata": {},
   "source": [
    "### 4. Explain your solution. Discuss the implications of your solution regarding the shelter’s operations and resource allocation strategies. (10 points)"
   ]
  },
  {
   "cell_type": "markdown",
   "id": "d2903054",
   "metadata": {},
   "source": [
    "The optimal solution suggests that the shelter allocates its $2,000 budget across three suppliers to meet all resource demands at the lowest cost.\n",
    "\n",
    "#### Resource Allocation:\n",
    "- **Supplier1** provides the majority of essential items: **Toilet Paper**, **Detergent**, **Cloths**, **Toothpaste**, **Toothbrushes**, **Sanitary Pads**, and **Shampoo**.\n",
    "- **Supplier2** fills gaps for **Liquid Soap**, **Toothpaste**, **Toothbrushes**, and **Sanitary Pads**.\n",
    "- **Supplier3** meets additional needs for **Toilet Paper**, **Liquid Soap**, and **Cloths**.\n",
    "\n",
    "#### Implications for Operations:\n",
    "1. **Cost Optimization**: The solution seems to balance the budget while ensuring all required resources are procured in sufficient quantities.\n",
    "2. **Supplier Dependency**: Heavy reliance on **Supplier1** for critical items (in reality, this would require maintaining a strong relationship with them :D ).\n",
    "3. **Resource Shortages and Limits**: Some items, such as **Liquid Soap** from Supplier1, were not selected due to price or capacity constraints.\n",
    "4. **Resource Diversification**: Technically, since the shelter uses all three suppliers, it would reduce the risk of supply disruption in case of an unforeseen event.\n",
    "5. **Effective Procurement Strategy**: This strategy would in theory enable the shelter to meet its needs sustainably within budget."
   ]
  }
 ],
 "metadata": {
  "kernelspec": {
   "display_name": "Python 3 (ipykernel)",
   "language": "python",
   "name": "python3"
  },
  "language_info": {
   "codemirror_mode": {
    "name": "ipython",
    "version": 3
   },
   "file_extension": ".py",
   "mimetype": "text/x-python",
   "name": "python",
   "nbconvert_exporter": "python",
   "pygments_lexer": "ipython3",
   "version": "3.9.12"
  }
 },
 "nbformat": 4,
 "nbformat_minor": 5
}
