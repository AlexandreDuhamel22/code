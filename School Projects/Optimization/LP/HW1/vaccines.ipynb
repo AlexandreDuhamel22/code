{
 "cells": [
  {
   "cell_type": "code",
   "execution_count": 2,
   "id": "4f1c9efa",
   "metadata": {},
   "outputs": [],
   "source": [
    "from gurobipy import Model , GRB , quicksum"
   ]
  },
  {
   "cell_type": "code",
   "execution_count": 26,
   "id": "4b3fb11f",
   "metadata": {},
   "outputs": [],
   "source": [
    "m = Model(\"vaccine_distribution\")"
   ]
  },
  {
   "cell_type": "code",
   "execution_count": 27,
   "id": "75b26b0d",
   "metadata": {},
   "outputs": [],
   "source": [
    "# Values\n",
    "stations = ['A', 'B', 'C', 'D']\n",
    "capacities = [2300, 1700, 1200, 900]\n",
    "priorities = [0.5, 0.7, 1, 0.8]\n",
    "total_vaccines = 5000"
   ]
  },
  {
   "cell_type": "code",
   "execution_count": 28,
   "id": "bcc84268",
   "metadata": {},
   "outputs": [],
   "source": [
    "# 𝑋𝑖 : is the number of vaccines allocated to station 𝑖, ∀𝑖 ∈ {𝐴, 𝐵, 𝐶, 𝐷}\n",
    "# x is a list of the 𝑋𝑖\n",
    "x = [m.addVar(vtype=GRB.INTEGER, name=f\"x_{station}\") for station in stations]\n",
    "\n",
    "# 𝑀𝑎𝑥𝑖𝑚𝑖𝑧𝑒 ∑ 𝑃𝑖 ⋅𝑋𝑖\n",
    "m.setObjective(quicksum(x[i] * priorities[i] for i in range(len(stations))), GRB.MAXIMIZE)"
   ]
  },
  {
   "cell_type": "code",
   "execution_count": 29,
   "id": "4f0eb07b",
   "metadata": {},
   "outputs": [],
   "source": [
    "# Every vaccine has to be used : ∑ 𝑋𝑖 = 5000\n",
    "m.addConstr(quicksum(x[i] for i in range(len(stations))) == total_vaccines,\"total_vaccines\")\n",
    "\n",
    "# Minimum supply : 𝑋𝑖 ≥ 500, ∀𝑖 ∈ {𝐴,𝐵,𝐶,𝐷}\n",
    "# Storage space : 𝑋𝑖 ≤ 𝑆𝑖, ∀𝑖 ∈ {𝐴,𝐵,𝐶,𝐷}\n",
    "for i in range(len(stations)):\n",
    "    m.addConstr(x[i] >= 500, f\"min_vaccines_{stations[i]}\")\n",
    "    m.addConstr(x[i] <= capacities[i], f\"capacity_{stations[i]}\")"
   ]
  },
  {
   "cell_type": "code",
   "execution_count": 30,
   "id": "a27f9552",
   "metadata": {},
   "outputs": [
    {
     "name": "stdout",
     "output_type": "stream",
     "text": [
      "Station A receives 1200.0 vaccines\n",
      "Station B receives 1700.0 vaccines\n",
      "Station C receives 1200.0 vaccines\n",
      "Station D receives 900.0 vaccines\n"
     ]
    }
   ],
   "source": [
    "m.setParam('OutputFlag', 0)\n",
    "m.optimize()\n",
    "\n",
    "if m.status == GRB.OPTIMAL:\n",
    "    for i in range(len(stations)):\n",
    "        print(f\"Station {stations[i]} receives {x[i].x} vaccines\") \n",
    "else :\n",
    "    print(\"No optimal solution found\")"
   ]
  }
 ],
 "metadata": {
  "kernelspec": {
   "display_name": "Python 3 (ipykernel)",
   "language": "python",
   "name": "python3"
  },
  "language_info": {
   "codemirror_mode": {
    "name": "ipython",
    "version": 3
   },
   "file_extension": ".py",
   "mimetype": "text/x-python",
   "name": "python",
   "nbconvert_exporter": "python",
   "pygments_lexer": "ipython3",
   "version": "3.9.12"
  }
 },
 "nbformat": 4,
 "nbformat_minor": 5
}
