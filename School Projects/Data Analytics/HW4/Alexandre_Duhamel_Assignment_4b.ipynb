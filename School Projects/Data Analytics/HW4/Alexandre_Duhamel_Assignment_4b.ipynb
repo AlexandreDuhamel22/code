{
 "cells": [
  {
   "cell_type": "markdown",
   "id": "93b4ed26",
   "metadata": {},
   "source": [
    "<div class=\"alert alert-block alert-info\">\n",
    "<b>Attention:</b> \n",
    "    \n",
    "Please read and follow the instructions carefully to avoid point deduction.\n",
    "    \n",
    "You are encouraged to use class materials and online resources to help you with this assignment. However, copying code directly from Generative AI (ChatGPT, Llama, etc.) or coding websites (Stack Overflow, GitHub, etc.) is strictly forbidden. We TAs have used these tools to generate answers for this assignment, so we WILL know if you directly copy or plagiarize your code. If we suspect any dishonest conduct, we reserve the right to call you in during office hours for a code review. If you fail to explain your code, we reserve the right to give you a 0 for the assignment. \n",
    "\n",
    "Feel free to email us or come to our office hours if you have any questions regarding this assignment.\n",
    "</div>"
   ]
  },
  {
   "cell_type": "markdown",
   "id": "f13ab979",
   "metadata": {},
   "source": [
    "<h1>Problem 1: Product Operations within Ndarray using Numpy</h1>\n",
    "\n",
    "<li><b>argmin</b> A numpy function that returns the indices of the minimum values along an axis\n",
    "<li><b>argmax</b> A numpy function that returns the indices of the maximum values along an axis\n",
    "<li><b>sort</b> A numpy function that returns a sorted copy of an array\n",
    "<li><b>prod</b> A numpy function that returns the product of all elements in an array\n",
    "<li><b>cumprod</b> A numpy function on an ndarray of size n that returns an array of size n where each element i is the product of all elements from 0 to i"
   ]
  },
  {
   "cell_type": "code",
   "execution_count": null,
   "id": "48cc197c",
   "metadata": {},
   "outputs": [],
   "source": [
    "\"\"\"\n",
    "Replace pass with the code that uses ndarray, np.argmin, np.prod to calculate \n",
    "the product of elements before the minimum element (inclusive)\n",
    "\n",
    "You can assume that there is only one minimum element\n",
    "\n",
    "The function should take an ndarray as input and return a numpy.array\n",
    "\n",
    "\"\"\"\n",
    "\n",
    "import numpy as np\n",
    "\n",
    "def min_product(ndarray):\n",
    "    min_index = np.argmin(ndarray)\n",
    "    return np.prod(ndarray[:min_index + 1])\n",
    "\n",
    "\n",
    "# arr = np.array([3, 2, 5, 1, 6, 4])\n",
    "# print(min_product(arr))"
   ]
  },
  {
   "cell_type": "code",
   "execution_count": 6,
   "id": "e44a110f",
   "metadata": {},
   "outputs": [
    {
     "data": {
      "text/plain": [
       "180"
      ]
     },
     "execution_count": 6,
     "metadata": {},
     "output_type": "execute_result"
    }
   ],
   "source": [
    "import numpy as np\n",
    "min_product(np.array([5,3,6,2,9])) # should print out 180"
   ]
  },
  {
   "cell_type": "code",
   "execution_count": 12,
   "id": "acb47bb5",
   "metadata": {},
   "outputs": [],
   "source": [
    "\"\"\"\n",
    "Replace pass with the code that uses ndarray, np.argmax, np.cumprod to calculate \n",
    "the cumulative product of elements after the maximum element (inclusive)\n",
    "\n",
    "You can assume that there is only one maximum element\n",
    "\n",
    "The function should take an ndarray as input and return a numpy.array\n",
    "\n",
    "\"\"\"\n",
    "\n",
    "def max_cumprod(ndarray):\n",
    "    max_index = np.argmax(ndarray)\n",
    "    return np.cumprod(ndarray[max_index :])"
   ]
  },
  {
   "cell_type": "code",
   "execution_count": 13,
   "id": "193c7714",
   "metadata": {},
   "outputs": [
    {
     "data": {
      "text/plain": [
       "array([ 20,  20, 180])"
      ]
     },
     "execution_count": 13,
     "metadata": {},
     "output_type": "execute_result"
    }
   ],
   "source": [
    "import numpy as np\n",
    "max_cumprod(np.array([10,20,1,9])) # should print out array([ 20,  20, 180])"
   ]
  },
  {
   "cell_type": "code",
   "execution_count": 23,
   "id": "48368245",
   "metadata": {},
   "outputs": [],
   "source": [
    "\"\"\"\n",
    "Replace pass with the code that uses ndarray, np.sort, np.cumprod to calculate\n",
    "the cumulative product of elements after sorting the original ndarray and selecting only the even elements\n",
    "\n",
    "The function should take an ndarray as input and return a numpy.array\n",
    "\n",
    "\"\"\"\n",
    "\n",
    "def sort_cumprod(ndarray):\n",
    "    # print(np.sort(ndarray))\n",
    "    sorted_array = np.sort(ndarray)\n",
    "    return np.cumprod([i for i in sorted_array if i % 2 == 0])\n"
   ]
  },
  {
   "cell_type": "code",
   "execution_count": 24,
   "id": "7fb5616e",
   "metadata": {},
   "outputs": [
    {
     "data": {
      "text/plain": [
       "array([  4,  40, 800])"
      ]
     },
     "execution_count": 24,
     "metadata": {},
     "output_type": "execute_result"
    }
   ],
   "source": [
    "import numpy as np\n",
    "sort_cumprod(np.array([10,20,4,9,5])) # should print out array([  4,  40, 800])"
   ]
  },
  {
   "cell_type": "markdown",
   "id": "b167766b",
   "metadata": {},
   "source": [
    "<h1>Problem 2: Simple Moving Averages</h1>\n",
    "\n",
    "Write a function that constructs an ndarray from data in a file and returns the simple moving averages on an ndarray after removing any NaN values. If there are fewer values than the window size at the start, return the average of all available values up to that point.\n",
    "\n",
    "<p>You may consider making use of the following functions:\n",
    "<li><b>np.genfromtxt:</b> https://docs.scipy.org/doc/numpy-1.13.0/reference/generated/numpy.genfromtxt.html\n",
    "<li><b>np.isnan:</b> https://docs.scipy.org/doc/numpy-1.13.0/reference/generated/numpy.isnan.html\n",
    "<li><b>np.array:</b> https://numpy.org/doc/stable/reference/generated/numpy.array.html\n",
    "\n",
    "<p>Test your function out using the attached apple.csv file. Your function can assume that the file structure is (date, price).\n",
    "\n",
    "<p>Note that simple moving average is defined as (p(t) + p(t-1) + ... + p(t-n+1))/n given that window size is n.\n",
    "\n",
    "<b>Example:</b><br>\n",
    "If the window size is 3 and the data array is:<br>\n",
    "np.array([1, 2, np.NaN, 4, 8, np.NaN])\n",
    "<br>\n",
    "The output array should be:<br>\n",
    "array([1, 1.5, 2.33333333, 4.66666667])"
   ]
  },
  {
   "cell_type": "code",
   "execution_count": null,
   "id": "2e71cdcb",
   "metadata": {},
   "outputs": [],
   "source": [
    "import pandas as pd\n",
    "\n",
    "def get_sma(file_name, window_size):\n",
    "    # i tried multiple ways of implementing the subsections to deepen my understanding of what we're with\n",
    "    data = np.genfromtxt(file_name, delimiter=',', skip_header=1, usecols=1)\n",
    "\n",
    "    # with open(file_name, 'r') as f:\n",
    "    #     content = f.read().strip().split('\\n')[1:]\n",
    "    #     content = [float(cont.split(',')[1]) for cont in content if 'null' not in cont]\n",
    "    #     # print(content)\n",
    "        \n",
    "    # clean_data = data[~np.isnan(data)] # --> ~ : bitwise NOT, operator flips the True to False and vice versa\n",
    "\n",
    "    # data, window_size = np.array([1, 2, np.NaN, 4, 8, np.NaN]), 3 # testing if it works for the example\n",
    "\n",
    "    clean_data = pd.DataFrame(data).dropna()\n",
    "\n",
    "    # sma = np.zeros(len(clean_data))\n",
    "\n",
    "    # for i in range(len(clean_data)):\n",
    "    #     start_idx = max(0, i - window_size + 1)  \n",
    "    #     sma[i] = np.mean(clean_data[start_idx:i + 1])\n",
    "\n",
    "    sma = np.array([np.mean(clean_data[max(0, i - window_size + 1):i + 1]) for i in range(len(clean_data))])\n",
    "\n",
    "    return sma"
   ]
  },
  {
   "cell_type": "code",
   "execution_count": 89,
   "id": "b9415ee8",
   "metadata": {},
   "outputs": [
    {
     "data": {
      "text/plain": [
       "array([  0.421597  ,   0.410599  ,   0.39715667, ..., 157.8919998 ,\n",
       "       156.7970001 , 156.0249999 ])"
      ]
     },
     "execution_count": 89,
     "metadata": {},
     "output_type": "execute_result"
    }
   ],
   "source": [
    "# Test\n",
    "get_sma('apple.csv', window_size=10)"
   ]
  },
  {
   "cell_type": "markdown",
   "id": "11387e49",
   "metadata": {},
   "source": [
    "<h1>Problem 3: Moving Average Crossover Strategies - Pandas Grouping</h1>\n",
    "\n",
    "In this question, we will conduct a simple trading analysis based on stocks' daily returns and double moving average crossover strategy.<br>\n",
    "\n",
    "Write a program that reads timeseries pricing data from a file into a pandas dataframe and then groups the data as follows:\n",
    "<li>Adds three columns, daily returns and simple moving averages (window size = 50 and 200) to the file\n",
    "<li>Drop rows with Null values\n",
    "<li>Groups the data into four categories:\n",
    "<ul>\n",
    "<li>\"Buy+\" if 50-day SMA is above or equal to 200-day SMA with daily return is positive or zero\n",
    "<li>\"Buy-\" if 50-day SMA is above or equal to 200-day SMA but daily return is negative\n",
    "<li>\"Sell-\" if 50-dat SMA is under 200-day SMA but daily return is positive or zero\n",
    "<li>\"Sell+\" if 50-day SMA is under 200-day SMA with daily return is negative\n",
    "</ul>\n",
    "<li>Report the size and the mean of daily return of each group in dataframe\n",
    "<li>Note the scale of the values returned by the pct_change function (You need to multiply the result by 100)"
   ]
  },
  {
   "cell_type": "code",
   "execution_count": 1,
   "id": "4360bac5",
   "metadata": {},
   "outputs": [],
   "source": [
    "datafile = \"apple.csv\"\n",
    "import pandas as pd\n",
    "import numpy as np\n",
    "df = pd.read_csv(datafile).dropna()"
   ]
  },
  {
   "cell_type": "code",
   "execution_count": 2,
   "id": "650388fd",
   "metadata": {},
   "outputs": [],
   "source": [
    "# Adds three columns, daily returns and simple moving averages (window size = 50 and 200)\n",
    "\n",
    "# Both implementation of each give the same result\n",
    "# df[\"daily_return\"] = [0] + [(df[\"Adj Close\"].iloc[i] - df[\"Adj Close\"].iloc[i-1]) / df[\"Adj Close\"].iloc[i-1] * 100 \n",
    "#                             for i in range(1, len(df))]\n",
    "df[\"daily_return\"] = df[\"Adj Close\"].pct_change() * 100 # 100 for percentage\n",
    "\n",
    "\n",
    "# df[\"SMA_50\"] = [None] * len(df)\n",
    "# df[\"SMA_200\"] = [None] * len(df)\n",
    "\n",
    "# for i in range(50, len(df)):\n",
    "#     df[\"SMA_50\"].iloc[i] = sum(df[\"Adj Close\"].iloc[i-50:i]) / 50\n",
    "\n",
    "# for i in range(200, len(df)):\n",
    "#     df[\"SMA_200\"].iloc[i] = sum(df[\"Adj Close\"].iloc[i-200:i]) / 200\n",
    "\n",
    "\n",
    "df[\"SMA_50\"] = df[\"Adj Close\"].rolling(window=50).mean()\n",
    "df[\"SMA_200\"] = df[\"Adj Close\"].rolling(window=200).mean()"
   ]
  },
  {
   "cell_type": "code",
   "execution_count": 3,
   "id": "231f6707",
   "metadata": {},
   "outputs": [],
   "source": [
    "# Drop rows with null values\n",
    "df = df.dropna()"
   ]
  },
  {
   "cell_type": "code",
   "execution_count": 13,
   "id": "3720aa62",
   "metadata": {},
   "outputs": [],
   "source": [
    "def GroupColFunc(row):\n",
    "    # print(\"row : \", row)\n",
    "    if row[\"SMA_50\"] >= row[\"SMA_200\"]:\n",
    "        return \"Buy+\" if row[\"daily_return\"] >= 0 else \"Buy-\"\n",
    "    else:\n",
    "        return \"Sell-\" if row[\"daily_return\"] >= 0 else \"Sell+\""
   ]
  },
  {
   "cell_type": "code",
   "execution_count": 14,
   "id": "5b552527",
   "metadata": {},
   "outputs": [
    {
     "name": "stdout",
     "output_type": "stream",
     "text": [
      "       size      mean\n",
      "Group                \n",
      "Buy+   2952  1.885759\n",
      "Buy-   2645 -1.876487\n",
      "Sell+  1601 -2.246323\n",
      "Sell-  1880  2.150327\n"
     ]
    }
   ],
   "source": [
    "# Report the size and the mean of daily return of each group in dataframe\n",
    "\n",
    "# GROUPBY ON ROWS\n",
    "df[\"Group\"] = df.apply(GroupColFunc, axis=1)\n",
    "\n",
    "summary = df.groupby(\"Group\")[\"daily_return\"].agg([\"size\", \"mean\"])\n",
    "\n",
    "print(summary)"
   ]
  },
  {
   "cell_type": "code",
   "execution_count": 15,
   "id": "371c86b8",
   "metadata": {},
   "outputs": [
    {
     "name": "stdout",
     "output_type": "stream",
     "text": [
      "       size      mean\n",
      "Buy+   2952  1.885759\n",
      "Buy-   2645 -1.876487\n",
      "Sell+  1601 -2.246323\n",
      "Sell-  1880  2.150327\n"
     ]
    }
   ],
   "source": [
    "# Report the size and the mean of daily return of each group in dataframe\n",
    "\n",
    "# GROUPBY ON ROWS\n",
    "summary = df.groupby(lambda x: GroupColFunc(df.loc[x]))[\"daily_return\"].agg([\"size\", \"mean\"])\n",
    "\n",
    "print(summary)"
   ]
  },
  {
   "cell_type": "markdown",
   "id": "8ef898ff",
   "metadata": {},
   "source": [
    "Write a function that can categorize months into seasons and analyze stock return data based on seasonal pattern\n",
    "<li>Adds a column Season to the file\n",
    "<li>Write a function that have a dataframe and season name as input\n",
    "<li>After filtering by season, use groupby to also aggregate data by week number\n",
    "<li>For each week in the season, calculate: \n",
    "        <ul>\n",
    "            <li> Mean, Median, and Maximum Daily Return\n",
    "            <li> Rolling 4-week average of daily returns \n",
    "    </ul>\n",
    "<li>Drop rows with Null values and report results as a DataFrame"
   ]
  },
  {
   "cell_type": "code",
   "execution_count": 101,
   "id": "e6ca47d6",
   "metadata": {},
   "outputs": [
    {
     "name": "stdout",
     "output_type": "stream",
     "text": [
      "Season\n",
      "Summer    2329\n",
      "Spring    2293\n",
      "Fall      2259\n",
      "Winter    2197\n",
      "Name: count, dtype: int64\n"
     ]
    }
   ],
   "source": [
    "# Change the data type of 'Date' to datetime and extract week number\n",
    "# Hint: you can use dt.isocalendar().week to extract week number\n",
    "\n",
    "\n",
    "# Write a function get_season() to group months into seasons\n",
    "def get_season(month):\n",
    "    if month in [12, 1, 2]:\n",
    "        return \"Winter\"\n",
    "    elif month in [3, 4, 5]:\n",
    "        return \"Spring\"\n",
    "    elif month in [6, 7, 8]:\n",
    "        return \"Summer\"\n",
    "    else:\n",
    "        return \"Fall\"\n",
    "\n",
    "# Apply get_season() to create a new 'Season' column\n",
    "df[\"Date\"] = pd.to_datetime(df[\"Date\"])\n",
    "\n",
    "df[\"Month\"] = df[\"Date\"].dt.month\n",
    "df[\"Week\"] = df[\"Date\"].dt.isocalendar().week\n",
    "\n",
    "df[\"Season\"] = df[\"Month\"].apply(get_season)\n",
    "print(df[\"Season\"].value_counts())"
   ]
  },
  {
   "cell_type": "code",
   "execution_count": 108,
   "id": "8900239a",
   "metadata": {},
   "outputs": [],
   "source": [
    "def report_season(df, season_name):\n",
    "    season_df = df[df[\"Season\"] == season_name]\n",
    "    \n",
    "    grouped = season_df.groupby(\"Week\")[\"daily_return\"].agg([\"mean\", \"median\", \"max\"])\n",
    "    \n",
    "    grouped[\"rolling_4_week_avg\"] = grouped[\"mean\"].rolling(window=4).mean()\n",
    "\n",
    "    return grouped.dropna()"
   ]
  },
  {
   "cell_type": "code",
   "execution_count": 109,
   "id": "a0fb6199",
   "metadata": {},
   "outputs": [
    {
     "data": {
      "text/html": [
       "<div>\n",
       "<style scoped>\n",
       "    .dataframe tbody tr th:only-of-type {\n",
       "        vertical-align: middle;\n",
       "    }\n",
       "\n",
       "    .dataframe tbody tr th {\n",
       "        vertical-align: top;\n",
       "    }\n",
       "\n",
       "    .dataframe thead th {\n",
       "        text-align: right;\n",
       "    }\n",
       "</style>\n",
       "<table border=\"1\" class=\"dataframe\">\n",
       "  <thead>\n",
       "    <tr style=\"text-align: right;\">\n",
       "      <th></th>\n",
       "      <th>mean</th>\n",
       "      <th>median</th>\n",
       "      <th>max</th>\n",
       "      <th>rolling_4_week_avg</th>\n",
       "    </tr>\n",
       "    <tr>\n",
       "      <th>Week</th>\n",
       "      <th></th>\n",
       "      <th></th>\n",
       "      <th></th>\n",
       "      <th></th>\n",
       "    </tr>\n",
       "  </thead>\n",
       "  <tbody>\n",
       "    <tr>\n",
       "      <th>12</th>\n",
       "      <td>0.186476</td>\n",
       "      <td>-0.027918</td>\n",
       "      <td>9.705293</td>\n",
       "      <td>0.211808</td>\n",
       "    </tr>\n",
       "    <tr>\n",
       "      <th>13</th>\n",
       "      <td>0.133297</td>\n",
       "      <td>0.000000</td>\n",
       "      <td>11.194065</td>\n",
       "      <td>0.131219</td>\n",
       "    </tr>\n",
       "    <tr>\n",
       "      <th>14</th>\n",
       "      <td>0.188592</td>\n",
       "      <td>0.000000</td>\n",
       "      <td>9.874100</td>\n",
       "      <td>0.199954</td>\n",
       "    </tr>\n",
       "    <tr>\n",
       "      <th>15</th>\n",
       "      <td>-0.226940</td>\n",
       "      <td>-0.062178</td>\n",
       "      <td>7.302845</td>\n",
       "      <td>0.070356</td>\n",
       "    </tr>\n",
       "    <tr>\n",
       "      <th>16</th>\n",
       "      <td>0.451598</td>\n",
       "      <td>0.398367</td>\n",
       "      <td>12.856433</td>\n",
       "      <td>0.136637</td>\n",
       "    </tr>\n",
       "    <tr>\n",
       "      <th>17</th>\n",
       "      <td>0.271123</td>\n",
       "      <td>0.000000</td>\n",
       "      <td>11.755775</td>\n",
       "      <td>0.171093</td>\n",
       "    </tr>\n",
       "    <tr>\n",
       "      <th>18</th>\n",
       "      <td>0.140196</td>\n",
       "      <td>0.216805</td>\n",
       "      <td>9.090900</td>\n",
       "      <td>0.158994</td>\n",
       "    </tr>\n",
       "    <tr>\n",
       "      <th>19</th>\n",
       "      <td>0.380970</td>\n",
       "      <td>0.251973</td>\n",
       "      <td>11.349445</td>\n",
       "      <td>0.310972</td>\n",
       "    </tr>\n",
       "    <tr>\n",
       "      <th>20</th>\n",
       "      <td>-0.063555</td>\n",
       "      <td>-0.111511</td>\n",
       "      <td>8.988821</td>\n",
       "      <td>0.182183</td>\n",
       "    </tr>\n",
       "    <tr>\n",
       "      <th>21</th>\n",
       "      <td>-0.055333</td>\n",
       "      <td>-0.075983</td>\n",
       "      <td>7.142972</td>\n",
       "      <td>0.100569</td>\n",
       "    </tr>\n",
       "    <tr>\n",
       "      <th>22</th>\n",
       "      <td>-0.014420</td>\n",
       "      <td>0.000000</td>\n",
       "      <td>6.759186</td>\n",
       "      <td>0.061916</td>\n",
       "    </tr>\n",
       "  </tbody>\n",
       "</table>\n",
       "</div>"
      ],
      "text/plain": [
       "          mean    median        max  rolling_4_week_avg\n",
       "Week                                                   \n",
       "12    0.186476 -0.027918   9.705293            0.211808\n",
       "13    0.133297  0.000000  11.194065            0.131219\n",
       "14    0.188592  0.000000   9.874100            0.199954\n",
       "15   -0.226940 -0.062178   7.302845            0.070356\n",
       "16    0.451598  0.398367  12.856433            0.136637\n",
       "17    0.271123  0.000000  11.755775            0.171093\n",
       "18    0.140196  0.216805   9.090900            0.158994\n",
       "19    0.380970  0.251973  11.349445            0.310972\n",
       "20   -0.063555 -0.111511   8.988821            0.182183\n",
       "21   -0.055333 -0.075983   7.142972            0.100569\n",
       "22   -0.014420  0.000000   6.759186            0.061916"
      ]
     },
     "execution_count": 109,
     "metadata": {},
     "output_type": "execute_result"
    }
   ],
   "source": [
    "# Test\n",
    "report_season(df,'Spring')"
   ]
  },
  {
   "cell_type": "code",
   "execution_count": null,
   "id": "d1c7d460",
   "metadata": {},
   "outputs": [],
   "source": []
  }
 ],
 "metadata": {
  "kernelspec": {
   "display_name": "env",
   "language": "python",
   "name": "python3"
  },
  "language_info": {
   "codemirror_mode": {
    "name": "ipython",
    "version": 3
   },
   "file_extension": ".py",
   "mimetype": "text/x-python",
   "name": "python",
   "nbconvert_exporter": "python",
   "pygments_lexer": "ipython3",
   "version": "3.10.16"
  }
 },
 "nbformat": 4,
 "nbformat_minor": 5
}
