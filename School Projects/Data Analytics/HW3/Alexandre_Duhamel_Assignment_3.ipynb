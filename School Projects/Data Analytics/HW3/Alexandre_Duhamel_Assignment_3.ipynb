{
 "cells": [
  {
   "cell_type": "markdown",
   "id": "b33bf664",
   "metadata": {},
   "source": [
    "# Scraping NBA.com\n",
    "\n",
    "In this assignment, you will scrape data from [New York Knicks Team Page](https://www.nba.com/team/1610612752/knicks). The goal of the exercise is to get all player performance data from the New York Knicks team and find out who are the top three players based on the most Points per Game (PPG).\n",
    "\n",
    "The end result is to write a function: *`get_players(max_retrieve=None)`* that will return a list of **dicts**. Each **dict** should correspond to a player and should contain the following key-value pairs:\n",
    "\n",
    "- **name**: Player name **[str]**\n",
    "- **position**: Player position (e.g., Guard/Center/Forward) **[str]**\n",
    "  - When a player has multiple preferred positions, prioritize the one mentioned first. For example:\n",
    "    - If a player lists 'Center-Forward,' consider their primary position as 'Center.'\n",
    "    - If a player lists 'Forward-Guard,' return 'Forward.'\n",
    "- **experience**: Years of experience of the player **[int]**\n",
    "  - If the player is a rookie or has 'R' listed for experience, replace with 0.\n",
    "  - If there is no information on player experience, assign None\n",
    "- **PPG**: Points Per Game (PPG) **[float]**\n",
    "  - If no information, assign a <b>0</b> (zero) value.\n",
    "- **RPG**: Rebounds Per Game (RPG) **[float]**\n",
    "  - If no information, assign a <b>0</b> (zero) value.\n",
    "- **APG**: Assists Per Game (APG) **[float]**\n",
    "  - If no information, assign a <b>0</b> (zero) value.\n",
    "- **link**: A link to the player's page **[str]**\n",
    "\n",
    "### Additional Requirement\n",
    "- The `get_players` function should **only** be used to iterate through the list of player and get their *link* information, all other information (name, position, experience, PPG, RPG, APG) should be retrieved from the player's page using the `get_player_info` function.\n",
    "\n",
    "- The function should accept an optional parameter `max_retrieve` **[int]**, which determines the maximum number of players to return, based on the order they appear on the website.\n",
    "  - If `max_retrieve` = n, return only the top `n` players in the order they are listed on the website.\n",
    "  - If `max_retrieve` is `None` (default), return all players.\n",
    "  \n",
    "- Throughout the assignment, you should use **each** of the following functions at least once:\n",
    "  - find()\n",
    "  - find_all()\n",
    "  - find_all() or find() with a class that matches a regular expression pattern. For example : find_all('something', {'class': re.compile('somePatter')})\n",
    "\n",
    "The goal is to scrape all player data and allow an option to limit the number of players returned based on their appearance order on the website.\n"
   ]
  },
  {
   "cell_type": "markdown",
   "id": "152938d6",
   "metadata": {},
   "source": [
    "### Process\n",
    "- Retrieve the information for players' links.\n",
    "- Iterate through the list and invoke the function `get_player_info(player_url)` for each player. **(Hint: You need to add `https://www.nba.com` in front of the player hyperlink.)**\n",
    "- Accumulate the name, position, experience, acquire, points, rebounds, assists, and link for each player in the output_list.\n",
    "- Get the top three players by sorting by (Points per Game) PPG."
   ]
  },
  {
   "cell_type": "markdown",
   "id": "b982c2d9",
   "metadata": {},
   "source": [
    "<div class=\"alert alert-block alert-info\">\n",
    "<b>Attention:</b> \n",
    "    \n",
    "Please read and follow the instructions carefully to avoid point deduction.\n",
    "    \n",
    "You are encouraged to use class materials and online resources to help you with this assignment. However, copying code directly from Generative AI (ChatGPT, Llama, etc.) or coding websites (Stack Overflow, GitHub, etc.) is strictly forbidden. We TAs have used these tools to generate answers for this assignment, so we WILL know if you directly copy or plagiarize your code. If we suspect any dishonest conduct, we reserve the right to call you in during office hours for a code review. If you fail to explain your code, we reserve the right to give you a 0 for the assignment. \n",
    "\n",
    "Feel free to email us or come to our office hours if you have any questions regarding this assignment.\n",
    "</div>"
   ]
  },
  {
   "cell_type": "markdown",
   "id": "e92803be",
   "metadata": {},
   "source": [
    "### 1. Collecting player performance data"
   ]
  },
  {
   "cell_type": "code",
   "execution_count": 3,
   "id": "9cc7482d",
   "metadata": {},
   "outputs": [],
   "source": [
    "import requests\n",
    "import re\n",
    "from bs4 import BeautifulSoup"
   ]
  },
  {
   "cell_type": "markdown",
   "id": "482d3e8c",
   "metadata": {},
   "source": [
    "<div class=\"alert alert-block alert-info\">\n",
    "    <b> Attention: </b> You are not allowed to change the input parameters or the output format of this function. However, you may use helper functions if desired.\n",
    "</div>"
   ]
  },
  {
   "cell_type": "code",
   "execution_count": 23,
   "id": "99bde44d",
   "metadata": {},
   "outputs": [],
   "source": [
    "def get_players(max_retrieve = None):\n",
    "    # Define the URL to the NBA players page\n",
    "    url = \"https://www.nba.com/team/1610612752/knicks\"\n",
    "    \n",
    "    # Initialize an empty list to store player information\n",
    "    output_list = list()\n",
    "\n",
    "    ## YOUR CODE HERE\n",
    "    response = requests.get(url)\n",
    "    \n",
    "    if response.status_code != 200:\n",
    "        return output_list\n",
    "\n",
    "    # print(response.text)\n",
    "    \n",
    "    soup = BeautifulSoup(response.content, \"lxml\")\n",
    "\n",
    "    player_tags = soup.find_all(\"a\", {\"href\": re.compile(r\"/player/\\d+/\\w+\")})\n",
    "    # print(player_tags)\n",
    "    \n",
    "    # we want this order of dict :\n",
    "    # name, position, experience, PPG, RPG, APG, link\n",
    "    # so we will store the name first, then udpate it with stats\n",
    "    # only then add the link since we cannot order the dict an other way \n",
    "    # (i tried with the hint but i couldn't make it work) \n",
    "    for player in player_tags:\n",
    "        player_name = \" \".join(player.get_text(strip=True).split(\"\\n\"))\n",
    "        player_link = \"https://www.nba.com\" + player.get(\"href\")\n",
    "        \n",
    "        player_data = {\"name\": player_name}\n",
    "        \n",
    "        # --> PLEASE make sure to run the next cell before this one <--\n",
    "        # i didn't want to change the architecture of the HW as i didn't know if it was acceptable\n",
    "        detailed_player_data = get_player_info(player_link)\n",
    "        \n",
    "        # the dict doesn't actually hold order so it won't be \n",
    "        # in the right order unless we'd used collections \n",
    "        player_data.update(detailed_player_data)\n",
    "        \n",
    "        player_data[\"link\"] = player_link\n",
    "        \n",
    "        # we could check if player_data[\"position\"] is None to append it to the list to make sure\n",
    "        # we only get players with not all the data but it seems pretty \"stable\" based on my tries\n",
    "        output_list.append(player_data)\n",
    "\n",
    "        if max_retrieve and len(output_list) >= max_retrieve:\n",
    "            break\n",
    "    \n",
    "    return output_list"
   ]
  },
  {
   "cell_type": "code",
   "execution_count": 24,
   "id": "4701aaf4",
   "metadata": {},
   "outputs": [
    {
     "name": "stdout",
     "output_type": "stream",
     "text": [
      "{'name': 'Delon Wright', 'position': 'Guard', 'experience': 9, 'PPG': 2.4, 'RPG': 1.6, 'APG': 1.7, 'link': 'https://www.nba.com/player/1626153/delon-wright/'}\n",
      "{'name': 'MarJon Beauchamp', 'position': 'Forward', 'experience': 2, 'PPG': 2.2, 'RPG': 1.2, 'APG': 0.3, 'link': 'https://www.nba.com/player/1630699/marjon-beauchamp/'}\n",
      "{'name': 'P.J. Tucker', 'position': None, 'experience': 13, 'PPG': 1.7, 'RPG': 2.7, 'APG': 0.5, 'link': 'https://www.nba.com/player/200782/pj-tucker/'}\n",
      "{'name': 'Cameron Payne', 'position': 'Guard', 'experience': 9, 'PPG': 6.9, 'RPG': 1.4, 'APG': 2.7, 'link': 'https://www.nba.com/player/1626166/cameron-payne/'}\n",
      "{'name': 'Miles McBride', 'position': 'Guard', 'experience': 3, 'PPG': 9.2, 'RPG': 2.5, 'APG': 2.7, 'link': 'https://www.nba.com/player/1630540/miles-mcbride/'}\n"
     ]
    }
   ],
   "source": [
    "players = get_players(5)\n",
    "for player in players:\n",
    "    print(player)"
   ]
  },
  {
   "cell_type": "code",
   "execution_count": 7,
   "id": "603bed2a",
   "metadata": {},
   "outputs": [],
   "source": [
    "def get_player_info(player_url):\n",
    "    ## YOUR CODE HERE\n",
    "    \n",
    "    player_data = {\"position\": None, \"experience\": None, \"PPG\": 0.0, \"RPG\": 0.0, \"APG\": 0.0,}\n",
    "\n",
    "    response = requests.get(player_url)\n",
    "    \n",
    "    if response.status_code != 200:\n",
    "        return player_data \n",
    "\n",
    "    soup = BeautifulSoup(response.content, \"lxml\")\n",
    "\n",
    "    # we already have the name in the previous function and the \n",
    "    # url gives us the rest and acts as a primary key \n",
    "    # to join the 2 lists in the previous function\n",
    "    \n",
    "    # position\n",
    "    position_tag = soup.find(\"p\", {\"class\": \"PlayerSummary_mainInnerInfo__jv3LO\"})\n",
    "    if position_tag is not None :\n",
    "        info_text = position_tag.get_text(strip=True)\n",
    "        parts = info_text.split(\"|\")\n",
    "        if len(parts) > 2:\n",
    "            player_data[\"position\"] = parts[-1].strip()\n",
    "\n",
    "    # experience\n",
    "    experience_value = None\n",
    "    experience_tags = soup.find_all(\"p\", {\"class\": \"PlayerSummary_playerInfoValue__JS8_v\"})\n",
    "    experience_labels = soup.find_all(\"p\", {\"class\": \"PlayerSummary_playerInfoLabel__hb5fs\"})\n",
    "\n",
    "    # there isn't a built-in \"zip while\" this is the cleanest form i've found of doing so\n",
    "    for label, value in zip(experience_labels, experience_tags): \n",
    "        if label.get_text(strip=True) == \"EXPERIENCE\":\n",
    "            experience_value = value.get_text(strip=True)\n",
    "            # then we can break since we found the value :)\n",
    "            break\n",
    "\n",
    "    if experience_value is not None :\n",
    "        if experience_value == \"Rookie\":\n",
    "            player_data[\"experience\"] = 0  # Rookie just like \"Ariel Hukporti\" at the bottom of the roaster for example\n",
    "        else:\n",
    "            try:\n",
    "                # we split to get rid of the \"years\" part\n",
    "                player_data[\"experience\"] = int(experience_value.split()[0])\n",
    "            except ValueError:\n",
    "                player_data[\"experience\"] = None\n",
    "\n",
    "    # stats\n",
    "    stat_labels = soup.find_all(\"p\", {\"class\": re.compile(r\"PlayerSummary_playerStatLabel.*\")})\n",
    "    stat_values = soup.find_all(\"p\", {\"class\": re.compile(r\"PlayerSummary_playerStatValue.*\")})\n",
    "\n",
    "    stats_dict = {}\n",
    "    # same problem here a before, there is probably a cleaner way to do this but i couldn't find it\n",
    "    # in the archtecture of the html code\n",
    "    for label, value in zip(stat_labels, stat_values):\n",
    "        stat_name = label.get_text(strip=True)\n",
    "        stat_value = value.get_text(strip=True)\n",
    "        try:\n",
    "            stats_dict[stat_name] = float(stat_value)\n",
    "        except ValueError:\n",
    "            stats_dict[stat_name] = 0.0\n",
    "            \n",
    "    # print(stats_dict) # --> we also get \"PIE\", this could be optimized as it takes some memory\n",
    "    # we could simply check the name and decide only to add those we want but this way it's more general\n",
    "    # and can easily be exapnded to other stats if needed (here only a few stats so it's ok)\n",
    "\n",
    "    # we use .get(\"PPG\", 0.0) to ensure that if \"PPG\" does not exist in stats_dict \n",
    "    # it will return default value of 0.0 instead of raising a KeyError\n",
    "    # but we could have done player_data[\"PPG\"] = stats_dict[\"PPG\"] since we already made sure it exists..\n",
    "    # none the less, better safe than sorry haha\n",
    "    player_data[\"PPG\"] = stats_dict.get(\"PPG\", 0.0)\n",
    "    player_data[\"RPG\"] = stats_dict.get(\"RPG\", 0.0)\n",
    "    player_data[\"APG\"] = stats_dict.get(\"APG\", 0.0)\n",
    "\n",
    "    return player_data"
   ]
  },
  {
   "cell_type": "markdown",
   "id": "b65e4331",
   "metadata": {},
   "source": [
    "I made sure to use all of these at least once :\n",
    "- find()\n",
    "- find_all()\n",
    "- find_all() or find() with a class that matches a regular expression pattern"
   ]
  },
  {
   "cell_type": "code",
   "execution_count": null,
   "id": "92fba9fb",
   "metadata": {},
   "outputs": [
    {
     "name": "stdout",
     "output_type": "stream",
     "text": [
      "{'position': 'Forward', 'experience': 1, 'PPG': 0.4, 'RPG': 0.7, 'APG': 0.3}\n"
     ]
    }
   ],
   "source": [
    "# print(players[0][\"link\"])\n",
    "# player_info = get_player_info(players[0][\"link\"])\n",
    "# print(player_info)"
   ]
  },
  {
   "cell_type": "code",
   "execution_count": 64,
   "id": "b90893ed",
   "metadata": {},
   "outputs": [
    {
     "data": {
      "text/plain": [
       "[{'name': 'Delon Wright',\n",
       "  'position': 'Guard',\n",
       "  'experience': 9,\n",
       "  'PPG': 2.4,\n",
       "  'RPG': 1.6,\n",
       "  'APG': 1.7,\n",
       "  'link': 'https://www.nba.com/player/1626153/delon-wright/'},\n",
       " {'name': 'MarJon Beauchamp',\n",
       "  'position': 'Forward',\n",
       "  'experience': 2,\n",
       "  'PPG': 2.2,\n",
       "  'RPG': 1.2,\n",
       "  'APG': 0.3,\n",
       "  'link': 'https://www.nba.com/player/1630699/marjon-beauchamp/'},\n",
       " {'name': 'Cameron Payne',\n",
       "  'position': 'Guard',\n",
       "  'experience': 9,\n",
       "  'PPG': 7.0,\n",
       "  'RPG': 1.4,\n",
       "  'APG': 2.7,\n",
       "  'link': 'https://www.nba.com/player/1626166/cameron-payne/'},\n",
       " {'name': 'Miles McBride',\n",
       "  'position': 'Guard',\n",
       "  'experience': 3,\n",
       "  'PPG': 9.2,\n",
       "  'RPG': 2.5,\n",
       "  'APG': 2.6,\n",
       "  'link': 'https://www.nba.com/player/1630540/miles-mcbride/'},\n",
       " {'name': 'Josh Hart',\n",
       "  'position': 'Guard',\n",
       "  'experience': 7,\n",
       "  'PPG': 14.4,\n",
       "  'RPG': 9.6,\n",
       "  'APG': 5.7,\n",
       "  'link': 'https://www.nba.com/player/1628404/josh-hart/'},\n",
       " {'name': 'Pacome Dadiet',\n",
       "  'position': 'Forward',\n",
       "  'experience': 0,\n",
       "  'PPG': 1.9,\n",
       "  'RPG': 1.0,\n",
       "  'APG': 0.4,\n",
       "  'link': 'https://www.nba.com/player/1642359/pacome-dadiet/'},\n",
       " {'name': 'Precious Achiuwa',\n",
       "  'position': 'Forward',\n",
       "  'experience': 4,\n",
       "  'PPG': 6.9,\n",
       "  'RPG': 6.2,\n",
       "  'APG': 1.1,\n",
       "  'link': 'https://www.nba.com/player/1630173/precious-achiuwa/'},\n",
       " {'name': 'OG Anunoby',\n",
       "  'position': 'Forward-Guard',\n",
       "  'experience': 7,\n",
       "  'PPG': 16.4,\n",
       "  'RPG': 4.7,\n",
       "  'APG': 2.1,\n",
       "  'link': 'https://www.nba.com/player/1628384/og-anunoby/'},\n",
       " {'name': 'Kevin McCullar Jr.',\n",
       "  'position': 'Guard',\n",
       "  'experience': 0,\n",
       "  'PPG': 0.0,\n",
       "  'RPG': 0.0,\n",
       "  'APG': 0.0,\n",
       "  'link': 'https://www.nba.com/player/1641755/kevin-mccullar-jr/'},\n",
       " {'name': 'Jalen Brunson',\n",
       "  'position': 'Guard',\n",
       "  'experience': 6,\n",
       "  'PPG': 26.1,\n",
       "  'RPG': 3.0,\n",
       "  'APG': 7.4,\n",
       "  'link': 'https://www.nba.com/player/1628973/jalen-brunson/'},\n",
       " {'name': 'Tyler Kolek',\n",
       "  'position': 'Guard',\n",
       "  'experience': 0,\n",
       "  'PPG': 1.8,\n",
       "  'RPG': 0.5,\n",
       "  'APG': 0.8,\n",
       "  'link': 'https://www.nba.com/player/1642278/tyler-kolek/'},\n",
       " {'name': 'Mitchell Robinson',\n",
       "  'position': 'Center-Forward',\n",
       "  'experience': 6,\n",
       "  'PPG': 5.0,\n",
       "  'RPG': 4.0,\n",
       "  'APG': 0.3,\n",
       "  'link': 'https://www.nba.com/player/1629011/mitchell-robinson/'},\n",
       " {'name': 'Mikal Bridges',\n",
       "  'position': 'Guard-Forward',\n",
       "  'experience': 6,\n",
       "  'PPG': 17.4,\n",
       "  'RPG': 3.1,\n",
       "  'APG': 3.4,\n",
       "  'link': 'https://www.nba.com/player/1628969/mikal-bridges/'},\n",
       " {'name': 'Anton Watson',\n",
       "  'position': 'Forward',\n",
       "  'experience': 0,\n",
       "  'PPG': 0.0,\n",
       "  'RPG': 0.0,\n",
       "  'APG': 0.0,\n",
       "  'link': 'https://www.nba.com/player/1641817/anton-watson/'},\n",
       " {'name': 'Karl-Anthony Towns',\n",
       "  'position': 'Center-Forward',\n",
       "  'experience': 9,\n",
       "  'PPG': 24.5,\n",
       "  'RPG': 13.4,\n",
       "  'APG': 3.1,\n",
       "  'link': 'https://www.nba.com/player/1626157/karl-anthony-towns/'},\n",
       " {'name': 'Landry Shamet',\n",
       "  'position': 'Guard',\n",
       "  'experience': 6,\n",
       "  'PPG': 3.6,\n",
       "  'RPG': 0.8,\n",
       "  'APG': 0.6,\n",
       "  'link': 'https://www.nba.com/player/1629013/landry-shamet/'},\n",
       " {'name': 'Ariel Hukporti',\n",
       "  'position': 'Center',\n",
       "  'experience': 0,\n",
       "  'PPG': 1.9,\n",
       "  'RPG': 2.0,\n",
       "  'APG': 0.4,\n",
       "  'link': 'https://www.nba.com/player/1630574/ariel-hukporti/'}]"
      ]
     },
     "execution_count": 64,
     "metadata": {},
     "output_type": "execute_result"
    }
   ],
   "source": [
    "# Run this cell to get the data\n",
    "data = get_players()\n",
    "data"
   ]
  },
  {
   "cell_type": "code",
   "execution_count": 38,
   "id": "1b1055e0",
   "metadata": {},
   "outputs": [
    {
     "data": {
      "text/plain": [
       "\"\\n[{'name': 'Pacome Dadiet',\\n  'position': 'Forward',\\n  'experience': 0,\\n  'PPG': 0.0,\\n  'RPG': 0.0,\\n  'APG': 0.0,\\n  'link': 'https://www.nba.com/player/1642359/pacome-dadiet/'},\\n {'name': 'Tyler Kolek',\\n  'position': 'Guard',\\n  'experience': 0,\\n  'PPG': 0.0,\\n  'RPG': 0.0,\\n  'APG': 0.0,\\n  'link': 'https://www.nba.com/player/1642278/tyler-kolek/'},\\n {'name': 'Ariel Hukporti',\\n  'position': 'Center',\\n  'experience': 0,\\n  'PPG': 0.0,\\n  'RPG': 0.0,\\n  'APG': 0.0,\\n  'link': 'https://www.nba.com/player/1630574/ariel-hukporti/'},\\n {'name': 'Kevin McCullar Jr.',\\n  'position': 'Guard',\\n  'experience': 0,\\n  'PPG': 0.0,\\n  'RPG': 0.0,\\n  'APG': 0.0,\\n  'link': 'https://www.nba.com/player/1641755/kevin-mccullar-jr/'},\\n {'name': 'Donte DiVincenzo',\\n  'position': 'Guard',\\n  'experience': 6,\\n  'PPG': 15.5,\\n  'RPG': 3.7,\\n  'APG': 2.7,\\n  'link': 'https://www.nba.com/player/1628978/donte-divincenzo/'},\\n {'name': 'Jacob Toppin',\\n  'position': 'Forward',\\n  'experience': 1,\\n  'PPG': 1.4,\\n  'RPG': 0.8,\\n  'APG': 0.3,\\n  'link': 'https://www.nba.com/player/1631210/jacob-toppin/'},\\n ...]\\n\""
      ]
     },
     "execution_count": 38,
     "metadata": {},
     "output_type": "execute_result"
    }
   ],
   "source": [
    "# Running the above cell should return (note: the results may vary over time since the website is always updated)\n",
    "\"\"\"\n",
    "[{'name': 'Pacome Dadiet',\n",
    "  'position': 'Forward',\n",
    "  'experience': 0,\n",
    "  'PPG': 0.0,\n",
    "  'RPG': 0.0,\n",
    "  'APG': 0.0,\n",
    "  'link': 'https://www.nba.com/player/1642359/pacome-dadiet/'},\n",
    " {'name': 'Tyler Kolek',\n",
    "  'position': 'Guard',\n",
    "  'experience': 0,\n",
    "  'PPG': 0.0,\n",
    "  'RPG': 0.0,\n",
    "  'APG': 0.0,\n",
    "  'link': 'https://www.nba.com/player/1642278/tyler-kolek/'},\n",
    " {'name': 'Ariel Hukporti',\n",
    "  'position': 'Center',\n",
    "  'experience': 0,\n",
    "  'PPG': 0.0,\n",
    "  'RPG': 0.0,\n",
    "  'APG': 0.0,\n",
    "  'link': 'https://www.nba.com/player/1630574/ariel-hukporti/'},\n",
    " {'name': 'Kevin McCullar Jr.',\n",
    "  'position': 'Guard',\n",
    "  'experience': 0,\n",
    "  'PPG': 0.0,\n",
    "  'RPG': 0.0,\n",
    "  'APG': 0.0,\n",
    "  'link': 'https://www.nba.com/player/1641755/kevin-mccullar-jr/'},\n",
    " {'name': 'Donte DiVincenzo',\n",
    "  'position': 'Guard',\n",
    "  'experience': 6,\n",
    "  'PPG': 15.5,\n",
    "  'RPG': 3.7,\n",
    "  'APG': 2.7,\n",
    "  'link': 'https://www.nba.com/player/1628978/donte-divincenzo/'},\n",
    " {'name': 'Jacob Toppin',\n",
    "  'position': 'Forward',\n",
    "  'experience': 1,\n",
    "  'PPG': 1.4,\n",
    "  'RPG': 0.8,\n",
    "  'APG': 0.3,\n",
    "  'link': 'https://www.nba.com/player/1631210/jacob-toppin/'},\n",
    " ...]\n",
    "\"\"\""
   ]
  },
  {
   "cell_type": "code",
   "execution_count": 65,
   "id": "2c168c2a",
   "metadata": {},
   "outputs": [
    {
     "data": {
      "text/plain": [
       "6"
      ]
     },
     "execution_count": 65,
     "metadata": {},
     "output_type": "execute_result"
    }
   ],
   "source": [
    "# Set max_retrieve to 6 and check the len of your output\n",
    "len(get_players(max_retrieve = 6)) "
   ]
  },
  {
   "cell_type": "markdown",
   "id": "b4f6a249",
   "metadata": {},
   "source": [
    "### 2. Who's the top 3 player getting the most points per game (PPG)? \n",
    "- Get the top 3 players with highest PPG in New York Knicks\n",
    "    - Sample output: [('Jalen Brunson', 28.7),('Julius Randle', 24.0),('Mikal Bridges', 19.6)]\n",
    "    - Note: this sample is intended to provide an idea of the structure of the output, but it should not be used as a reference for the correct answer, as information may change over time."
   ]
  },
  {
   "cell_type": "code",
   "execution_count": 66,
   "id": "e22fc796",
   "metadata": {},
   "outputs": [
    {
     "name": "stdout",
     "output_type": "stream",
     "text": [
      "[('Jalen Brunson', 26.1), ('Karl-Anthony Towns', 24.5), ('Mikal Bridges', 17.4)]\n"
     ]
    }
   ],
   "source": [
    "## YOUR CODE HERE\n",
    "\n",
    "top_scorers = sorted([(player[\"name\"], player[\"PPG\"]) for player in data], key=lambda x: x[1], reverse=True)[:3]\n",
    "print(top_scorers)"
   ]
  },
  {
   "cell_type": "markdown",
   "id": "1a1fc64f",
   "metadata": {},
   "source": [
    "<h3>Hint: How to sort dicts by value for a specific key? How to get selected element in dicts?</h3>"
   ]
  },
  {
   "cell_type": "code",
   "execution_count": 67,
   "id": "dce8311a",
   "metadata": {},
   "outputs": [
    {
     "data": {
      "text/plain": [
       "[{'letter1': 'a', 'number': 23.2, 'letter2': 'b'},\n",
       " {'letter1': 'c', 'number': 17.4, 'letter2': 'f'},\n",
       " {'letter1': 'd', 'number': 29.2, 'letter2': 'z'},\n",
       " {'letter1': 'e', 'number': 1.74, 'letter2': 'bb'}]"
      ]
     },
     "execution_count": 67,
     "metadata": {},
     "output_type": "execute_result"
    }
   ],
   "source": [
    "x = [{'letter1':'a','number':23.2,'letter2':'b'},{'letter1':'c','number':17.4,'letter2':'f'},{'letter1':'d','number':29.2,'letter2':'z'},{'letter1':'e','number':1.74,'letter2':'bb'}]\n",
    "#Sort by the letter1 key in the dict\n",
    "\n",
    "x.sort(key=lambda a: a['letter1'])\n",
    "x"
   ]
  },
  {
   "cell_type": "code",
   "execution_count": 81,
   "id": "5de784c4",
   "metadata": {},
   "outputs": [
    {
     "data": {
      "text/plain": [
       "[{'letter1': 'e', 'number': 1.74, 'letter2': 'bb'},\n",
       " {'letter1': 'c', 'number': 17.4, 'letter2': 'f'},\n",
       " {'letter1': 'a', 'number': 23.2, 'letter2': 'b'},\n",
       " {'letter1': 'd', 'number': 29.2, 'letter2': 'z'}]"
      ]
     },
     "execution_count": 81,
     "metadata": {},
     "output_type": "execute_result"
    }
   ],
   "source": [
    "x = [{'letter1':'a','number':23.2,'letter2':'b'},{'letter1':'c','number':17.4,'letter2':'f'},{'letter1':'d','number':29.2,'letter2':'z'},{'letter1':'e','number':1.74,'letter2':'bb'}]\n",
    "# Sort by the number key in the dict \n",
    "\n",
    "x.sort(key=lambda a: a['number'])\n",
    "x"
   ]
  },
  {
   "cell_type": "code",
   "execution_count": 82,
   "id": "33e39495",
   "metadata": {},
   "outputs": [
    {
     "data": {
      "text/plain": [
       "[('a', 23.2), ('c', 17.4), ('d', 29.2), ('e', 1.74)]"
      ]
     },
     "execution_count": 82,
     "metadata": {},
     "output_type": "execute_result"
    }
   ],
   "source": [
    "x = [{'letter1':'a','number':23.2,'letter2':'b'},{'letter1':'c','number':17.4,'letter2':'f'},{'letter1':'d','number':29.2,'letter2':'z'},{'letter1':'e','number':1.74,'letter2':'bb'}]\n",
    "\n",
    "[(sub['letter1'],sub['number']) for sub in x]"
   ]
  },
  {
   "cell_type": "code",
   "execution_count": null,
   "id": "37bbfed5",
   "metadata": {},
   "outputs": [],
   "source": []
  }
 ],
 "metadata": {
  "kernelspec": {
   "display_name": "env",
   "language": "python",
   "name": "python3"
  },
  "language_info": {
   "codemirror_mode": {
    "name": "ipython",
    "version": 3
   },
   "file_extension": ".py",
   "mimetype": "text/x-python",
   "name": "python",
   "nbconvert_exporter": "python",
   "pygments_lexer": "ipython3",
   "version": "3.10.16"
  }
 },
 "nbformat": 4,
 "nbformat_minor": 5
}
